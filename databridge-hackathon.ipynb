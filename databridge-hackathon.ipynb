{
 "cells": [
  {
   "cell_type": "markdown",
   "id": "c160b9d5",
   "metadata": {
    "papermill": {
     "duration": 0.013586,
     "end_time": "2025-02-21T00:07:23.265155",
     "exception": false,
     "start_time": "2025-02-21T00:07:23.251569",
     "status": "completed"
    },
    "tags": []
   },
   "source": [
    "# First dataset\n",
    "### Import the libraries"
   ]
  },
  {
   "cell_type": "code",
   "execution_count": 1,
   "id": "0facdba3",
   "metadata": {
    "execution": {
     "iopub.execute_input": "2025-02-21T00:07:23.295524Z",
     "iopub.status.busy": "2025-02-21T00:07:23.295121Z",
     "iopub.status.idle": "2025-02-21T00:07:24.493207Z",
     "shell.execute_reply": "2025-02-21T00:07:24.492322Z"
    },
    "papermill": {
     "duration": 1.216717,
     "end_time": "2025-02-21T00:07:24.495604",
     "exception": false,
     "start_time": "2025-02-21T00:07:23.278887",
     "status": "completed"
    },
    "tags": []
   },
   "outputs": [],
   "source": [
    "import pandas as pd\n",
    "import numpy as np"
   ]
  },
  {
   "cell_type": "markdown",
   "id": "0df90c8c",
   "metadata": {
    "papermill": {
     "duration": 0.013833,
     "end_time": "2025-02-21T00:07:24.524234",
     "exception": false,
     "start_time": "2025-02-21T00:07:24.510401",
     "status": "completed"
    },
    "tags": []
   },
   "source": [
    "# PART1:\n",
    "\n",
    "## 1) read the data:"
   ]
  },
  {
   "cell_type": "code",
   "execution_count": 2,
   "id": "5f978e10",
   "metadata": {
    "execution": {
     "iopub.execute_input": "2025-02-21T00:07:24.565780Z",
     "iopub.status.busy": "2025-02-21T00:07:24.565054Z",
     "iopub.status.idle": "2025-02-21T00:07:26.169495Z",
     "shell.execute_reply": "2025-02-21T00:07:26.168410Z"
    },
    "papermill": {
     "duration": 1.626291,
     "end_time": "2025-02-21T00:07:26.171515",
     "exception": false,
     "start_time": "2025-02-21T00:07:24.545224",
     "status": "completed"
    },
    "tags": []
   },
   "outputs": [
    {
     "data": {
      "text/html": [
       "<div>\n",
       "<style scoped>\n",
       "    .dataframe tbody tr th:only-of-type {\n",
       "        vertical-align: middle;\n",
       "    }\n",
       "\n",
       "    .dataframe tbody tr th {\n",
       "        vertical-align: top;\n",
       "    }\n",
       "\n",
       "    .dataframe thead th {\n",
       "        text-align: right;\n",
       "    }\n",
       "</style>\n",
       "<table border=\"1\" class=\"dataframe\">\n",
       "  <thead>\n",
       "    <tr style=\"text-align: right;\">\n",
       "      <th></th>\n",
       "      <th>region_name</th>\n",
       "      <th>period_begin</th>\n",
       "      <th>period_end</th>\n",
       "      <th>total_homes_sold</th>\n",
       "      <th>inventory</th>\n",
       "      <th>active_listings</th>\n",
       "      <th>age_of_inventory</th>\n",
       "      <th>median_active_list_price</th>\n",
       "      <th>months_of_supply</th>\n",
       "    </tr>\n",
       "  </thead>\n",
       "  <tbody>\n",
       "    <tr>\n",
       "      <th>0</th>\n",
       "      <td>Appling County, GA</td>\n",
       "      <td>27/04/2020</td>\n",
       "      <td>19/07/2020</td>\n",
       "      <td>NaN</td>\n",
       "      <td>1.0</td>\n",
       "      <td>1.0</td>\n",
       "      <td>222.7</td>\n",
       "      <td>136195.8</td>\n",
       "      <td>NaN</td>\n",
       "    </tr>\n",
       "    <tr>\n",
       "      <th>1</th>\n",
       "      <td>Tooele County, UT</td>\n",
       "      <td>27/08/2018</td>\n",
       "      <td>18/11/2018</td>\n",
       "      <td>325.0</td>\n",
       "      <td>NaN</td>\n",
       "      <td>NaN</td>\n",
       "      <td>NaN</td>\n",
       "      <td>NaN</td>\n",
       "      <td>NaN</td>\n",
       "    </tr>\n",
       "    <tr>\n",
       "      <th>2</th>\n",
       "      <td>Johnson County, TX</td>\n",
       "      <td>23/09/2019</td>\n",
       "      <td>15/12/2019</td>\n",
       "      <td>577.0</td>\n",
       "      <td>717.0</td>\n",
       "      <td>778.0</td>\n",
       "      <td>63.0</td>\n",
       "      <td>268737.6</td>\n",
       "      <td>17.095583</td>\n",
       "    </tr>\n",
       "    <tr>\n",
       "      <th>3</th>\n",
       "      <td>Holmes County, OH</td>\n",
       "      <td>09/10/2017</td>\n",
       "      <td>31/12/2017</td>\n",
       "      <td>22.0</td>\n",
       "      <td>52.0</td>\n",
       "      <td>54.0</td>\n",
       "      <td>109.4</td>\n",
       "      <td>115308.3</td>\n",
       "      <td>34.050000</td>\n",
       "    </tr>\n",
       "    <tr>\n",
       "      <th>4</th>\n",
       "      <td>Madison County, FL</td>\n",
       "      <td>09/01/2017</td>\n",
       "      <td>02/04/2017</td>\n",
       "      <td>12.0</td>\n",
       "      <td>54.0</td>\n",
       "      <td>55.0</td>\n",
       "      <td>151.2</td>\n",
       "      <td>158062.5</td>\n",
       "      <td>38.300000</td>\n",
       "    </tr>\n",
       "    <tr>\n",
       "      <th>...</th>\n",
       "      <td>...</td>\n",
       "      <td>...</td>\n",
       "      <td>...</td>\n",
       "      <td>...</td>\n",
       "      <td>...</td>\n",
       "      <td>...</td>\n",
       "      <td>...</td>\n",
       "      <td>...</td>\n",
       "      <td>...</td>\n",
       "    </tr>\n",
       "    <tr>\n",
       "      <th>622334</th>\n",
       "      <td>Washita County, OK</td>\n",
       "      <td>25/11/2019</td>\n",
       "      <td>16/02/2020</td>\n",
       "      <td>NaN</td>\n",
       "      <td>4.0</td>\n",
       "      <td>4.0</td>\n",
       "      <td>133.0</td>\n",
       "      <td>46650.0</td>\n",
       "      <td>NaN</td>\n",
       "    </tr>\n",
       "    <tr>\n",
       "      <th>622335</th>\n",
       "      <td>Gray County, TX</td>\n",
       "      <td>25/02/2019</td>\n",
       "      <td>19/05/2019</td>\n",
       "      <td>NaN</td>\n",
       "      <td>1.0</td>\n",
       "      <td>1.0</td>\n",
       "      <td>180.5</td>\n",
       "      <td>62500.0</td>\n",
       "      <td>NaN</td>\n",
       "    </tr>\n",
       "    <tr>\n",
       "      <th>622336</th>\n",
       "      <td>Custer County, OK</td>\n",
       "      <td>24/02/2020</td>\n",
       "      <td>17/05/2020</td>\n",
       "      <td>NaN</td>\n",
       "      <td>15.0</td>\n",
       "      <td>15.0</td>\n",
       "      <td>52.7</td>\n",
       "      <td>130120.8</td>\n",
       "      <td>NaN</td>\n",
       "    </tr>\n",
       "    <tr>\n",
       "      <th>622337</th>\n",
       "      <td>Choctaw County, MS</td>\n",
       "      <td>30/12/2019</td>\n",
       "      <td>22/03/2020</td>\n",
       "      <td>NaN</td>\n",
       "      <td>2.0</td>\n",
       "      <td>3.0</td>\n",
       "      <td>46.0</td>\n",
       "      <td>115268.7</td>\n",
       "      <td>NaN</td>\n",
       "    </tr>\n",
       "    <tr>\n",
       "      <th>622338</th>\n",
       "      <td>Morehouse Parish, LA</td>\n",
       "      <td>14/02/2022</td>\n",
       "      <td>08/05/2022</td>\n",
       "      <td>NaN</td>\n",
       "      <td>30.0</td>\n",
       "      <td>33.0</td>\n",
       "      <td>59.7</td>\n",
       "      <td>139979.1</td>\n",
       "      <td>NaN</td>\n",
       "    </tr>\n",
       "  </tbody>\n",
       "</table>\n",
       "<p>622339 rows × 9 columns</p>\n",
       "</div>"
      ],
      "text/plain": [
       "                 region_name period_begin  period_end  total_homes_sold  \\\n",
       "0         Appling County, GA   27/04/2020  19/07/2020               NaN   \n",
       "1          Tooele County, UT   27/08/2018  18/11/2018             325.0   \n",
       "2         Johnson County, TX   23/09/2019  15/12/2019             577.0   \n",
       "3          Holmes County, OH   09/10/2017  31/12/2017              22.0   \n",
       "4         Madison County, FL   09/01/2017  02/04/2017              12.0   \n",
       "...                      ...          ...         ...               ...   \n",
       "622334    Washita County, OK   25/11/2019  16/02/2020               NaN   \n",
       "622335       Gray County, TX   25/02/2019  19/05/2019               NaN   \n",
       "622336     Custer County, OK   24/02/2020  17/05/2020               NaN   \n",
       "622337    Choctaw County, MS   30/12/2019  22/03/2020               NaN   \n",
       "622338  Morehouse Parish, LA   14/02/2022  08/05/2022               NaN   \n",
       "\n",
       "        inventory  active_listings  age_of_inventory  \\\n",
       "0             1.0              1.0             222.7   \n",
       "1             NaN              NaN               NaN   \n",
       "2           717.0            778.0              63.0   \n",
       "3            52.0             54.0             109.4   \n",
       "4            54.0             55.0             151.2   \n",
       "...           ...              ...               ...   \n",
       "622334        4.0              4.0             133.0   \n",
       "622335        1.0              1.0             180.5   \n",
       "622336       15.0             15.0              52.7   \n",
       "622337        2.0              3.0              46.0   \n",
       "622338       30.0             33.0              59.7   \n",
       "\n",
       "        median_active_list_price  months_of_supply  \n",
       "0                       136195.8               NaN  \n",
       "1                            NaN               NaN  \n",
       "2                       268737.6         17.095583  \n",
       "3                       115308.3         34.050000  \n",
       "4                       158062.5         38.300000  \n",
       "...                          ...               ...  \n",
       "622334                   46650.0               NaN  \n",
       "622335                   62500.0               NaN  \n",
       "622336                  130120.8               NaN  \n",
       "622337                  115268.7               NaN  \n",
       "622338                  139979.1               NaN  \n",
       "\n",
       "[622339 rows x 9 columns]"
      ]
     },
     "execution_count": 2,
     "metadata": {},
     "output_type": "execute_result"
    }
   ],
   "source": [
    "df = pd.read_csv('/kaggle/input/hackathonxx/housing_data.csv')\n",
    "df"
   ]
  },
  {
   "cell_type": "markdown",
   "id": "99107701",
   "metadata": {
    "papermill": {
     "duration": 0.013601,
     "end_time": "2025-02-21T00:07:26.199134",
     "exception": false,
     "start_time": "2025-02-21T00:07:26.185533",
     "status": "completed"
    },
    "tags": []
   },
   "source": [
    "## 2) print the shape of the data:"
   ]
  },
  {
   "cell_type": "code",
   "execution_count": 3,
   "id": "c4b20fcf",
   "metadata": {
    "execution": {
     "iopub.execute_input": "2025-02-21T00:07:26.228716Z",
     "iopub.status.busy": "2025-02-21T00:07:26.227996Z",
     "iopub.status.idle": "2025-02-21T00:07:26.234631Z",
     "shell.execute_reply": "2025-02-21T00:07:26.233565Z"
    },
    "papermill": {
     "duration": 0.023466,
     "end_time": "2025-02-21T00:07:26.236448",
     "exception": false,
     "start_time": "2025-02-21T00:07:26.212982",
     "status": "completed"
    },
    "tags": []
   },
   "outputs": [
    {
     "data": {
      "text/plain": [
       "(622339, 9)"
      ]
     },
     "execution_count": 3,
     "metadata": {},
     "output_type": "execute_result"
    }
   ],
   "source": [
    "df.shape"
   ]
  },
  {
   "cell_type": "markdown",
   "id": "a7a657ff",
   "metadata": {
    "papermill": {
     "duration": 0.013666,
     "end_time": "2025-02-21T00:07:26.263934",
     "exception": false,
     "start_time": "2025-02-21T00:07:26.250268",
     "status": "completed"
    },
    "tags": []
   },
   "source": [
    "### Insigts: As you see we have 622339 rows with 9 columns "
   ]
  },
  {
   "cell_type": "markdown",
   "id": "d942ca16",
   "metadata": {
    "papermill": {
     "duration": 0.013564,
     "end_time": "2025-02-21T00:07:26.291401",
     "exception": false,
     "start_time": "2025-02-21T00:07:26.277837",
     "status": "completed"
    },
    "tags": []
   },
   "source": [
    "## 3) how many columns in the data: "
   ]
  },
  {
   "cell_type": "code",
   "execution_count": 4,
   "id": "270aabe2",
   "metadata": {
    "execution": {
     "iopub.execute_input": "2025-02-21T00:07:26.320897Z",
     "iopub.status.busy": "2025-02-21T00:07:26.320184Z",
     "iopub.status.idle": "2025-02-21T00:07:26.326928Z",
     "shell.execute_reply": "2025-02-21T00:07:26.325672Z"
    },
    "papermill": {
     "duration": 0.0239,
     "end_time": "2025-02-21T00:07:26.329015",
     "exception": false,
     "start_time": "2025-02-21T00:07:26.305115",
     "status": "completed"
    },
    "tags": []
   },
   "outputs": [
    {
     "data": {
      "text/plain": [
       "9"
      ]
     },
     "execution_count": 4,
     "metadata": {},
     "output_type": "execute_result"
    }
   ],
   "source": [
    "len(df.columns)"
   ]
  },
  {
   "cell_type": "markdown",
   "id": "d2619603",
   "metadata": {
    "papermill": {
     "duration": 0.014693,
     "end_time": "2025-02-21T00:07:26.357880",
     "exception": false,
     "start_time": "2025-02-21T00:07:26.343187",
     "status": "completed"
    },
    "tags": []
   },
   "source": [
    "### Insigts: As you see we have 9 columns."
   ]
  },
  {
   "cell_type": "markdown",
   "id": "384087c6",
   "metadata": {
    "papermill": {
     "duration": 0.013802,
     "end_time": "2025-02-21T00:07:26.385876",
     "exception": false,
     "start_time": "2025-02-21T00:07:26.372074",
     "status": "completed"
    },
    "tags": []
   },
   "source": [
    "### 4) how many unique regions we have? and what are the names of these\n",
    "regions: "
   ]
  },
  {
   "cell_type": "code",
   "execution_count": 5,
   "id": "66de8259",
   "metadata": {
    "execution": {
     "iopub.execute_input": "2025-02-21T00:07:26.415974Z",
     "iopub.status.busy": "2025-02-21T00:07:26.414989Z",
     "iopub.status.idle": "2025-02-21T00:07:26.481712Z",
     "shell.execute_reply": "2025-02-21T00:07:26.480465Z"
    },
    "papermill": {
     "duration": 0.084514,
     "end_time": "2025-02-21T00:07:26.484407",
     "exception": false,
     "start_time": "2025-02-21T00:07:26.399893",
     "status": "completed"
    },
    "tags": []
   },
   "outputs": [
    {
     "name": "stdout",
     "output_type": "stream",
     "text": [
      "['Appling County, GA' 'Tooele County, UT' 'Johnson County, TX' ...\n",
      " 'Atchison County, MO' 'Pemiscot County, MO' 'Lake County, TN']\n",
      "2399\n"
     ]
    }
   ],
   "source": [
    "unique_names = df['region_name'].unique()\n",
    "print(unique_names)\n",
    "print(len(unique_names))"
   ]
  },
  {
   "cell_type": "markdown",
   "id": "4e48b87d",
   "metadata": {
    "papermill": {
     "duration": 0.0138,
     "end_time": "2025-02-21T00:07:26.512620",
     "exception": false,
     "start_time": "2025-02-21T00:07:26.498820",
     "status": "completed"
    },
    "tags": []
   },
   "source": [
    "### Insigts: We have 2399 unique region names and you can see above their names/"
   ]
  },
  {
   "cell_type": "markdown",
   "id": "174ee6e7",
   "metadata": {
    "papermill": {
     "duration": 0.01357,
     "end_time": "2025-02-21T00:07:26.540055",
     "exception": false,
     "start_time": "2025-02-21T00:07:26.526485",
     "status": "completed"
    },
    "tags": []
   },
   "source": [
    "### 5) use describe() function on the data and explain what it does:"
   ]
  },
  {
   "cell_type": "code",
   "execution_count": 6,
   "id": "c65f18ed",
   "metadata": {
    "execution": {
     "iopub.execute_input": "2025-02-21T00:07:26.571753Z",
     "iopub.status.busy": "2025-02-21T00:07:26.571036Z",
     "iopub.status.idle": "2025-02-21T00:07:26.823294Z",
     "shell.execute_reply": "2025-02-21T00:07:26.822283Z"
    },
    "papermill": {
     "duration": 0.271676,
     "end_time": "2025-02-21T00:07:26.825689",
     "exception": false,
     "start_time": "2025-02-21T00:07:26.554013",
     "status": "completed"
    },
    "tags": []
   },
   "outputs": [
    {
     "data": {
      "text/html": [
       "<div>\n",
       "<style scoped>\n",
       "    .dataframe tbody tr th:only-of-type {\n",
       "        vertical-align: middle;\n",
       "    }\n",
       "\n",
       "    .dataframe tbody tr th {\n",
       "        vertical-align: top;\n",
       "    }\n",
       "\n",
       "    .dataframe thead th {\n",
       "        text-align: right;\n",
       "    }\n",
       "</style>\n",
       "<table border=\"1\" class=\"dataframe\">\n",
       "  <thead>\n",
       "    <tr style=\"text-align: right;\">\n",
       "      <th></th>\n",
       "      <th>total_homes_sold</th>\n",
       "      <th>inventory</th>\n",
       "      <th>active_listings</th>\n",
       "      <th>age_of_inventory</th>\n",
       "      <th>median_active_list_price</th>\n",
       "      <th>months_of_supply</th>\n",
       "    </tr>\n",
       "  </thead>\n",
       "  <tbody>\n",
       "    <tr>\n",
       "      <th>count</th>\n",
       "      <td>567839.000000</td>\n",
       "      <td>616247.000000</td>\n",
       "      <td>616905.000000</td>\n",
       "      <td>616247.000000</td>\n",
       "      <td>6.165130e+05</td>\n",
       "      <td>561319.000000</td>\n",
       "    </tr>\n",
       "    <tr>\n",
       "      <th>mean</th>\n",
       "      <td>465.184219</td>\n",
       "      <td>415.449284</td>\n",
       "      <td>454.787632</td>\n",
       "      <td>76.823044</td>\n",
       "      <td>2.712133e+05</td>\n",
       "      <td>18.894937</td>\n",
       "    </tr>\n",
       "    <tr>\n",
       "      <th>std</th>\n",
       "      <td>1216.840272</td>\n",
       "      <td>1176.440133</td>\n",
       "      <td>1278.428643</td>\n",
       "      <td>42.818934</td>\n",
       "      <td>4.375623e+06</td>\n",
       "      <td>29.910629</td>\n",
       "    </tr>\n",
       "    <tr>\n",
       "      <th>min</th>\n",
       "      <td>1.000000</td>\n",
       "      <td>1.000000</td>\n",
       "      <td>1.000000</td>\n",
       "      <td>0.000000</td>\n",
       "      <td>1.258500e+03</td>\n",
       "      <td>0.025958</td>\n",
       "    </tr>\n",
       "    <tr>\n",
       "      <th>25%</th>\n",
       "      <td>17.000000</td>\n",
       "      <td>18.000000</td>\n",
       "      <td>19.000000</td>\n",
       "      <td>48.900000</td>\n",
       "      <td>1.406041e+05</td>\n",
       "      <td>9.663503</td>\n",
       "    </tr>\n",
       "    <tr>\n",
       "      <th>50%</th>\n",
       "      <td>77.000000</td>\n",
       "      <td>79.000000</td>\n",
       "      <td>85.000000</td>\n",
       "      <td>68.100000</td>\n",
       "      <td>2.038583e+05</td>\n",
       "      <td>15.471320</td>\n",
       "    </tr>\n",
       "    <tr>\n",
       "      <th>75%</th>\n",
       "      <td>344.000000</td>\n",
       "      <td>312.000000</td>\n",
       "      <td>341.000000</td>\n",
       "      <td>93.300000</td>\n",
       "      <td>2.960407e+05</td>\n",
       "      <td>23.408333</td>\n",
       "    </tr>\n",
       "    <tr>\n",
       "      <th>max</th>\n",
       "      <td>24385.000000</td>\n",
       "      <td>23357.000000</td>\n",
       "      <td>25012.000000</td>\n",
       "      <td>365.000000</td>\n",
       "      <td>1.000000e+09</td>\n",
       "      <td>1849.000000</td>\n",
       "    </tr>\n",
       "  </tbody>\n",
       "</table>\n",
       "</div>"
      ],
      "text/plain": [
       "       total_homes_sold      inventory  active_listings  age_of_inventory  \\\n",
       "count     567839.000000  616247.000000    616905.000000     616247.000000   \n",
       "mean         465.184219     415.449284       454.787632         76.823044   \n",
       "std         1216.840272    1176.440133      1278.428643         42.818934   \n",
       "min            1.000000       1.000000         1.000000          0.000000   \n",
       "25%           17.000000      18.000000        19.000000         48.900000   \n",
       "50%           77.000000      79.000000        85.000000         68.100000   \n",
       "75%          344.000000     312.000000       341.000000         93.300000   \n",
       "max        24385.000000   23357.000000     25012.000000        365.000000   \n",
       "\n",
       "       median_active_list_price  months_of_supply  \n",
       "count              6.165130e+05     561319.000000  \n",
       "mean               2.712133e+05         18.894937  \n",
       "std                4.375623e+06         29.910629  \n",
       "min                1.258500e+03          0.025958  \n",
       "25%                1.406041e+05          9.663503  \n",
       "50%                2.038583e+05         15.471320  \n",
       "75%                2.960407e+05         23.408333  \n",
       "max                1.000000e+09       1849.000000  "
      ]
     },
     "execution_count": 6,
     "metadata": {},
     "output_type": "execute_result"
    }
   ],
   "source": [
    "df.describe()"
   ]
  },
  {
   "cell_type": "markdown",
   "id": "3ed80ef1",
   "metadata": {
    "papermill": {
     "duration": 0.013842,
     "end_time": "2025-02-21T00:07:26.854400",
     "exception": false,
     "start_time": "2025-02-21T00:07:26.840558",
     "status": "completed"
    },
    "tags": []
   },
   "source": [
    "### Insigts: The describe function show many mathmatical statistics that can summarize the data like the count, mean, std and so on."
   ]
  },
  {
   "cell_type": "markdown",
   "id": "0ac44976",
   "metadata": {
    "papermill": {
     "duration": 0.013832,
     "end_time": "2025-02-21T00:07:26.882339",
     "exception": false,
     "start_time": "2025-02-21T00:07:26.868507",
     "status": "completed"
    },
    "tags": []
   },
   "source": [
    "## PART2: Data Cleaning"
   ]
  },
  {
   "cell_type": "markdown",
   "id": "8fd0926b",
   "metadata": {
    "papermill": {
     "duration": 0.069966,
     "end_time": "2025-02-21T00:07:26.966411",
     "exception": false,
     "start_time": "2025-02-21T00:07:26.896445",
     "status": "completed"
    },
    "tags": []
   },
   "source": [
    "#### Creating copy of the dataset:"
   ]
  },
  {
   "cell_type": "code",
   "execution_count": 7,
   "id": "f4a760b1",
   "metadata": {
    "execution": {
     "iopub.execute_input": "2025-02-21T00:07:26.996724Z",
     "iopub.status.busy": "2025-02-21T00:07:26.996005Z",
     "iopub.status.idle": "2025-02-21T00:07:27.021782Z",
     "shell.execute_reply": "2025-02-21T00:07:27.020794Z"
    },
    "papermill": {
     "duration": 0.043496,
     "end_time": "2025-02-21T00:07:27.024051",
     "exception": false,
     "start_time": "2025-02-21T00:07:26.980555",
     "status": "completed"
    },
    "tags": []
   },
   "outputs": [],
   "source": [
    "df2 = df.copy()"
   ]
  },
  {
   "cell_type": "markdown",
   "id": "3e2f3efe",
   "metadata": {
    "papermill": {
     "duration": 0.014358,
     "end_time": "2025-02-21T00:07:27.053493",
     "exception": false,
     "start_time": "2025-02-21T00:07:27.039135",
     "status": "completed"
    },
    "tags": []
   },
   "source": [
    "### 1) How would you rename the column median_active_list_price to median_pric:"
   ]
  },
  {
   "cell_type": "code",
   "execution_count": 8,
   "id": "6e7a6970",
   "metadata": {
    "execution": {
     "iopub.execute_input": "2025-02-21T00:07:27.083979Z",
     "iopub.status.busy": "2025-02-21T00:07:27.083645Z",
     "iopub.status.idle": "2025-02-21T00:07:27.135479Z",
     "shell.execute_reply": "2025-02-21T00:07:27.134330Z"
    },
    "papermill": {
     "duration": 0.069671,
     "end_time": "2025-02-21T00:07:27.137547",
     "exception": false,
     "start_time": "2025-02-21T00:07:27.067876",
     "status": "completed"
    },
    "tags": []
   },
   "outputs": [
    {
     "data": {
      "text/html": [
       "<div>\n",
       "<style scoped>\n",
       "    .dataframe tbody tr th:only-of-type {\n",
       "        vertical-align: middle;\n",
       "    }\n",
       "\n",
       "    .dataframe tbody tr th {\n",
       "        vertical-align: top;\n",
       "    }\n",
       "\n",
       "    .dataframe thead th {\n",
       "        text-align: right;\n",
       "    }\n",
       "</style>\n",
       "<table border=\"1\" class=\"dataframe\">\n",
       "  <thead>\n",
       "    <tr style=\"text-align: right;\">\n",
       "      <th></th>\n",
       "      <th>region_name</th>\n",
       "      <th>period_begin</th>\n",
       "      <th>period_end</th>\n",
       "      <th>total_homes_sold</th>\n",
       "      <th>inventory</th>\n",
       "      <th>active_listings</th>\n",
       "      <th>age_of_inventory</th>\n",
       "      <th>median_pric</th>\n",
       "      <th>months_of_supply</th>\n",
       "    </tr>\n",
       "  </thead>\n",
       "  <tbody>\n",
       "    <tr>\n",
       "      <th>0</th>\n",
       "      <td>Appling County, GA</td>\n",
       "      <td>27/04/2020</td>\n",
       "      <td>19/07/2020</td>\n",
       "      <td>NaN</td>\n",
       "      <td>1.0</td>\n",
       "      <td>1.0</td>\n",
       "      <td>222.7</td>\n",
       "      <td>136195.8</td>\n",
       "      <td>NaN</td>\n",
       "    </tr>\n",
       "    <tr>\n",
       "      <th>1</th>\n",
       "      <td>Tooele County, UT</td>\n",
       "      <td>27/08/2018</td>\n",
       "      <td>18/11/2018</td>\n",
       "      <td>325.0</td>\n",
       "      <td>NaN</td>\n",
       "      <td>NaN</td>\n",
       "      <td>NaN</td>\n",
       "      <td>NaN</td>\n",
       "      <td>NaN</td>\n",
       "    </tr>\n",
       "    <tr>\n",
       "      <th>2</th>\n",
       "      <td>Johnson County, TX</td>\n",
       "      <td>23/09/2019</td>\n",
       "      <td>15/12/2019</td>\n",
       "      <td>577.0</td>\n",
       "      <td>717.0</td>\n",
       "      <td>778.0</td>\n",
       "      <td>63.0</td>\n",
       "      <td>268737.6</td>\n",
       "      <td>17.095583</td>\n",
       "    </tr>\n",
       "    <tr>\n",
       "      <th>3</th>\n",
       "      <td>Holmes County, OH</td>\n",
       "      <td>09/10/2017</td>\n",
       "      <td>31/12/2017</td>\n",
       "      <td>22.0</td>\n",
       "      <td>52.0</td>\n",
       "      <td>54.0</td>\n",
       "      <td>109.4</td>\n",
       "      <td>115308.3</td>\n",
       "      <td>34.050000</td>\n",
       "    </tr>\n",
       "    <tr>\n",
       "      <th>4</th>\n",
       "      <td>Madison County, FL</td>\n",
       "      <td>09/01/2017</td>\n",
       "      <td>02/04/2017</td>\n",
       "      <td>12.0</td>\n",
       "      <td>54.0</td>\n",
       "      <td>55.0</td>\n",
       "      <td>151.2</td>\n",
       "      <td>158062.5</td>\n",
       "      <td>38.300000</td>\n",
       "    </tr>\n",
       "    <tr>\n",
       "      <th>...</th>\n",
       "      <td>...</td>\n",
       "      <td>...</td>\n",
       "      <td>...</td>\n",
       "      <td>...</td>\n",
       "      <td>...</td>\n",
       "      <td>...</td>\n",
       "      <td>...</td>\n",
       "      <td>...</td>\n",
       "      <td>...</td>\n",
       "    </tr>\n",
       "    <tr>\n",
       "      <th>622334</th>\n",
       "      <td>Washita County, OK</td>\n",
       "      <td>25/11/2019</td>\n",
       "      <td>16/02/2020</td>\n",
       "      <td>NaN</td>\n",
       "      <td>4.0</td>\n",
       "      <td>4.0</td>\n",
       "      <td>133.0</td>\n",
       "      <td>46650.0</td>\n",
       "      <td>NaN</td>\n",
       "    </tr>\n",
       "    <tr>\n",
       "      <th>622335</th>\n",
       "      <td>Gray County, TX</td>\n",
       "      <td>25/02/2019</td>\n",
       "      <td>19/05/2019</td>\n",
       "      <td>NaN</td>\n",
       "      <td>1.0</td>\n",
       "      <td>1.0</td>\n",
       "      <td>180.5</td>\n",
       "      <td>62500.0</td>\n",
       "      <td>NaN</td>\n",
       "    </tr>\n",
       "    <tr>\n",
       "      <th>622336</th>\n",
       "      <td>Custer County, OK</td>\n",
       "      <td>24/02/2020</td>\n",
       "      <td>17/05/2020</td>\n",
       "      <td>NaN</td>\n",
       "      <td>15.0</td>\n",
       "      <td>15.0</td>\n",
       "      <td>52.7</td>\n",
       "      <td>130120.8</td>\n",
       "      <td>NaN</td>\n",
       "    </tr>\n",
       "    <tr>\n",
       "      <th>622337</th>\n",
       "      <td>Choctaw County, MS</td>\n",
       "      <td>30/12/2019</td>\n",
       "      <td>22/03/2020</td>\n",
       "      <td>NaN</td>\n",
       "      <td>2.0</td>\n",
       "      <td>3.0</td>\n",
       "      <td>46.0</td>\n",
       "      <td>115268.7</td>\n",
       "      <td>NaN</td>\n",
       "    </tr>\n",
       "    <tr>\n",
       "      <th>622338</th>\n",
       "      <td>Morehouse Parish, LA</td>\n",
       "      <td>14/02/2022</td>\n",
       "      <td>08/05/2022</td>\n",
       "      <td>NaN</td>\n",
       "      <td>30.0</td>\n",
       "      <td>33.0</td>\n",
       "      <td>59.7</td>\n",
       "      <td>139979.1</td>\n",
       "      <td>NaN</td>\n",
       "    </tr>\n",
       "  </tbody>\n",
       "</table>\n",
       "<p>622339 rows × 9 columns</p>\n",
       "</div>"
      ],
      "text/plain": [
       "                 region_name period_begin  period_end  total_homes_sold  \\\n",
       "0         Appling County, GA   27/04/2020  19/07/2020               NaN   \n",
       "1          Tooele County, UT   27/08/2018  18/11/2018             325.0   \n",
       "2         Johnson County, TX   23/09/2019  15/12/2019             577.0   \n",
       "3          Holmes County, OH   09/10/2017  31/12/2017              22.0   \n",
       "4         Madison County, FL   09/01/2017  02/04/2017              12.0   \n",
       "...                      ...          ...         ...               ...   \n",
       "622334    Washita County, OK   25/11/2019  16/02/2020               NaN   \n",
       "622335       Gray County, TX   25/02/2019  19/05/2019               NaN   \n",
       "622336     Custer County, OK   24/02/2020  17/05/2020               NaN   \n",
       "622337    Choctaw County, MS   30/12/2019  22/03/2020               NaN   \n",
       "622338  Morehouse Parish, LA   14/02/2022  08/05/2022               NaN   \n",
       "\n",
       "        inventory  active_listings  age_of_inventory  median_pric  \\\n",
       "0             1.0              1.0             222.7     136195.8   \n",
       "1             NaN              NaN               NaN          NaN   \n",
       "2           717.0            778.0              63.0     268737.6   \n",
       "3            52.0             54.0             109.4     115308.3   \n",
       "4            54.0             55.0             151.2     158062.5   \n",
       "...           ...              ...               ...          ...   \n",
       "622334        4.0              4.0             133.0      46650.0   \n",
       "622335        1.0              1.0             180.5      62500.0   \n",
       "622336       15.0             15.0              52.7     130120.8   \n",
       "622337        2.0              3.0              46.0     115268.7   \n",
       "622338       30.0             33.0              59.7     139979.1   \n",
       "\n",
       "        months_of_supply  \n",
       "0                    NaN  \n",
       "1                    NaN  \n",
       "2              17.095583  \n",
       "3              34.050000  \n",
       "4              38.300000  \n",
       "...                  ...  \n",
       "622334               NaN  \n",
       "622335               NaN  \n",
       "622336               NaN  \n",
       "622337               NaN  \n",
       "622338               NaN  \n",
       "\n",
       "[622339 rows x 9 columns]"
      ]
     },
     "execution_count": 8,
     "metadata": {},
     "output_type": "execute_result"
    }
   ],
   "source": [
    "\n",
    "df2 = df2.rename(columns={'median_active_list_price': 'median_pric'})\n",
    "df2"
   ]
  },
  {
   "cell_type": "markdown",
   "id": "6195d681",
   "metadata": {
    "papermill": {
     "duration": 0.014484,
     "end_time": "2025-02-21T00:07:27.166944",
     "exception": false,
     "start_time": "2025-02-21T00:07:27.152460",
     "status": "completed"
    },
    "tags": []
   },
   "source": [
    "### Insigts: We can use function rename with the previous column name and add the new name as you see above."
   ]
  },
  {
   "cell_type": "markdown",
   "id": "6fa2afff",
   "metadata": {
    "papermill": {
     "duration": 0.014588,
     "end_time": "2025-02-21T00:07:27.196169",
     "exception": false,
     "start_time": "2025-02-21T00:07:27.181581",
     "status": "completed"
    },
    "tags": []
   },
   "source": [
    "### 2) How do you change the column names to lowercase:"
   ]
  },
  {
   "cell_type": "code",
   "execution_count": 9,
   "id": "44a8d594",
   "metadata": {
    "execution": {
     "iopub.execute_input": "2025-02-21T00:07:27.227375Z",
     "iopub.status.busy": "2025-02-21T00:07:27.227006Z",
     "iopub.status.idle": "2025-02-21T00:07:27.238225Z",
     "shell.execute_reply": "2025-02-21T00:07:27.237230Z"
    },
    "papermill": {
     "duration": 0.029219,
     "end_time": "2025-02-21T00:07:27.240312",
     "exception": false,
     "start_time": "2025-02-21T00:07:27.211093",
     "status": "completed"
    },
    "tags": []
   },
   "outputs": [
    {
     "name": "stdout",
     "output_type": "stream",
     "text": [
      "                 region_name period_begin  period_end  total_homes_sold  \\\n",
      "0         Appling County, GA   27/04/2020  19/07/2020               NaN   \n",
      "1          Tooele County, UT   27/08/2018  18/11/2018             325.0   \n",
      "2         Johnson County, TX   23/09/2019  15/12/2019             577.0   \n",
      "3          Holmes County, OH   09/10/2017  31/12/2017              22.0   \n",
      "4         Madison County, FL   09/01/2017  02/04/2017              12.0   \n",
      "...                      ...          ...         ...               ...   \n",
      "622334    Washita County, OK   25/11/2019  16/02/2020               NaN   \n",
      "622335       Gray County, TX   25/02/2019  19/05/2019               NaN   \n",
      "622336     Custer County, OK   24/02/2020  17/05/2020               NaN   \n",
      "622337    Choctaw County, MS   30/12/2019  22/03/2020               NaN   \n",
      "622338  Morehouse Parish, LA   14/02/2022  08/05/2022               NaN   \n",
      "\n",
      "        inventory  active_listings  age_of_inventory  median_pric  \\\n",
      "0             1.0              1.0             222.7     136195.8   \n",
      "1             NaN              NaN               NaN          NaN   \n",
      "2           717.0            778.0              63.0     268737.6   \n",
      "3            52.0             54.0             109.4     115308.3   \n",
      "4            54.0             55.0             151.2     158062.5   \n",
      "...           ...              ...               ...          ...   \n",
      "622334        4.0              4.0             133.0      46650.0   \n",
      "622335        1.0              1.0             180.5      62500.0   \n",
      "622336       15.0             15.0              52.7     130120.8   \n",
      "622337        2.0              3.0              46.0     115268.7   \n",
      "622338       30.0             33.0              59.7     139979.1   \n",
      "\n",
      "        months_of_supply  \n",
      "0                    NaN  \n",
      "1                    NaN  \n",
      "2              17.095583  \n",
      "3              34.050000  \n",
      "4              38.300000  \n",
      "...                  ...  \n",
      "622334               NaN  \n",
      "622335               NaN  \n",
      "622336               NaN  \n",
      "622337               NaN  \n",
      "622338               NaN  \n",
      "\n",
      "[622339 rows x 9 columns]\n"
     ]
    }
   ],
   "source": [
    "df2.columns = df2.columns.str.lower()\n",
    "print(df2)"
   ]
  },
  {
   "cell_type": "markdown",
   "id": "2c19651f",
   "metadata": {
    "papermill": {
     "duration": 0.014725,
     "end_time": "2025-02-21T00:07:27.269860",
     "exception": false,
     "start_time": "2025-02-21T00:07:27.255135",
     "status": "completed"
    },
    "tags": []
   },
   "source": [
    "### Insigts: We get all the columns as array using `df2.columns` and change them to lower strings using `str.lower` and assigned the new array of the columns names to the current dataset."
   ]
  },
  {
   "cell_type": "markdown",
   "id": "7988f843",
   "metadata": {
    "papermill": {
     "duration": 0.014383,
     "end_time": "2025-02-21T00:07:27.299076",
     "exception": false,
     "start_time": "2025-02-21T00:07:27.284693",
     "status": "completed"
    },
    "tags": []
   },
   "source": [
    "### 3) Identify and handle missing values in the dataset. How many missing values:\n",
    "are there for each column?"
   ]
  },
  {
   "cell_type": "code",
   "execution_count": 10,
   "id": "d3eee137",
   "metadata": {
    "execution": {
     "iopub.execute_input": "2025-02-21T00:07:27.329728Z",
     "iopub.status.busy": "2025-02-21T00:07:27.329352Z",
     "iopub.status.idle": "2025-02-21T00:07:27.427865Z",
     "shell.execute_reply": "2025-02-21T00:07:27.426868Z"
    },
    "papermill": {
     "duration": 0.116152,
     "end_time": "2025-02-21T00:07:27.429830",
     "exception": false,
     "start_time": "2025-02-21T00:07:27.313678",
     "status": "completed"
    },
    "tags": []
   },
   "outputs": [
    {
     "data": {
      "text/plain": [
       "region_name             0\n",
       "period_begin            0\n",
       "period_end              0\n",
       "total_homes_sold    54500\n",
       "inventory            6092\n",
       "active_listings      5434\n",
       "age_of_inventory     6092\n",
       "median_pric          5826\n",
       "months_of_supply    61020\n",
       "dtype: int64"
      ]
     },
     "execution_count": 10,
     "metadata": {},
     "output_type": "execute_result"
    }
   ],
   "source": [
    "# Identifing the missing values\n",
    "missing_values = df2.isnull().sum()\n",
    "missing_values"
   ]
  },
  {
   "cell_type": "code",
   "execution_count": 11,
   "id": "4fb9db46",
   "metadata": {
    "execution": {
     "iopub.execute_input": "2025-02-21T00:07:27.461804Z",
     "iopub.status.busy": "2025-02-21T00:07:27.460908Z",
     "iopub.status.idle": "2025-02-21T00:07:27.598982Z",
     "shell.execute_reply": "2025-02-21T00:07:27.597920Z"
    },
    "papermill": {
     "duration": 0.156272,
     "end_time": "2025-02-21T00:07:27.601238",
     "exception": false,
     "start_time": "2025-02-21T00:07:27.444966",
     "status": "completed"
    },
    "tags": []
   },
   "outputs": [
    {
     "data": {
      "text/html": [
       "<div>\n",
       "<style scoped>\n",
       "    .dataframe tbody tr th:only-of-type {\n",
       "        vertical-align: middle;\n",
       "    }\n",
       "\n",
       "    .dataframe tbody tr th {\n",
       "        vertical-align: top;\n",
       "    }\n",
       "\n",
       "    .dataframe thead th {\n",
       "        text-align: right;\n",
       "    }\n",
       "</style>\n",
       "<table border=\"1\" class=\"dataframe\">\n",
       "  <thead>\n",
       "    <tr style=\"text-align: right;\">\n",
       "      <th></th>\n",
       "      <th>region_name</th>\n",
       "      <th>period_begin</th>\n",
       "      <th>period_end</th>\n",
       "      <th>total_homes_sold</th>\n",
       "      <th>inventory</th>\n",
       "      <th>active_listings</th>\n",
       "      <th>age_of_inventory</th>\n",
       "      <th>median_pric</th>\n",
       "      <th>months_of_supply</th>\n",
       "    </tr>\n",
       "  </thead>\n",
       "  <tbody>\n",
       "    <tr>\n",
       "      <th>2</th>\n",
       "      <td>Johnson County, TX</td>\n",
       "      <td>23/09/2019</td>\n",
       "      <td>15/12/2019</td>\n",
       "      <td>577.0</td>\n",
       "      <td>717.0</td>\n",
       "      <td>778.0</td>\n",
       "      <td>63.0</td>\n",
       "      <td>268737.6</td>\n",
       "      <td>17.095583</td>\n",
       "    </tr>\n",
       "    <tr>\n",
       "      <th>3</th>\n",
       "      <td>Holmes County, OH</td>\n",
       "      <td>09/10/2017</td>\n",
       "      <td>31/12/2017</td>\n",
       "      <td>22.0</td>\n",
       "      <td>52.0</td>\n",
       "      <td>54.0</td>\n",
       "      <td>109.4</td>\n",
       "      <td>115308.3</td>\n",
       "      <td>34.050000</td>\n",
       "    </tr>\n",
       "    <tr>\n",
       "      <th>4</th>\n",
       "      <td>Madison County, FL</td>\n",
       "      <td>09/01/2017</td>\n",
       "      <td>02/04/2017</td>\n",
       "      <td>12.0</td>\n",
       "      <td>54.0</td>\n",
       "      <td>55.0</td>\n",
       "      <td>151.2</td>\n",
       "      <td>158062.5</td>\n",
       "      <td>38.300000</td>\n",
       "    </tr>\n",
       "    <tr>\n",
       "      <th>5</th>\n",
       "      <td>Barry County, MO</td>\n",
       "      <td>23/11/2020</td>\n",
       "      <td>14/02/2021</td>\n",
       "      <td>79.0</td>\n",
       "      <td>70.0</td>\n",
       "      <td>77.0</td>\n",
       "      <td>82.8</td>\n",
       "      <td>196509.1</td>\n",
       "      <td>13.157870</td>\n",
       "    </tr>\n",
       "    <tr>\n",
       "      <th>6</th>\n",
       "      <td>Sacramento County, CA</td>\n",
       "      <td>22/06/2020</td>\n",
       "      <td>13/09/2020</td>\n",
       "      <td>5107.0</td>\n",
       "      <td>1729.0</td>\n",
       "      <td>2206.0</td>\n",
       "      <td>27.5</td>\n",
       "      <td>445540.9</td>\n",
       "      <td>5.235794</td>\n",
       "    </tr>\n",
       "    <tr>\n",
       "      <th>...</th>\n",
       "      <td>...</td>\n",
       "      <td>...</td>\n",
       "      <td>...</td>\n",
       "      <td>...</td>\n",
       "      <td>...</td>\n",
       "      <td>...</td>\n",
       "      <td>...</td>\n",
       "      <td>...</td>\n",
       "      <td>...</td>\n",
       "    </tr>\n",
       "    <tr>\n",
       "      <th>622313</th>\n",
       "      <td>Boulder County, CO</td>\n",
       "      <td>15/01/2018</td>\n",
       "      <td>08/04/2018</td>\n",
       "      <td>973.0</td>\n",
       "      <td>746.0</td>\n",
       "      <td>838.0</td>\n",
       "      <td>44.9</td>\n",
       "      <td>647883.0</td>\n",
       "      <td>10.992834</td>\n",
       "    </tr>\n",
       "    <tr>\n",
       "      <th>622315</th>\n",
       "      <td>Randolph County, MO</td>\n",
       "      <td>11/03/2019</td>\n",
       "      <td>02/06/2019</td>\n",
       "      <td>21.0</td>\n",
       "      <td>12.0</td>\n",
       "      <td>13.0</td>\n",
       "      <td>23.5</td>\n",
       "      <td>122793.7</td>\n",
       "      <td>9.219697</td>\n",
       "    </tr>\n",
       "    <tr>\n",
       "      <th>622324</th>\n",
       "      <td>Sullivan County, IN</td>\n",
       "      <td>05/03/2018</td>\n",
       "      <td>27/05/2018</td>\n",
       "      <td>1.0</td>\n",
       "      <td>10.0</td>\n",
       "      <td>10.0</td>\n",
       "      <td>87.1</td>\n",
       "      <td>61741.6</td>\n",
       "      <td>10.000000</td>\n",
       "    </tr>\n",
       "    <tr>\n",
       "      <th>622329</th>\n",
       "      <td>Clatsop County, OR</td>\n",
       "      <td>03/06/2019</td>\n",
       "      <td>25/08/2019</td>\n",
       "      <td>1.0</td>\n",
       "      <td>4.0</td>\n",
       "      <td>4.0</td>\n",
       "      <td>53.7</td>\n",
       "      <td>650000.0</td>\n",
       "      <td>4.000000</td>\n",
       "    </tr>\n",
       "    <tr>\n",
       "      <th>622332</th>\n",
       "      <td>Coke County, TX</td>\n",
       "      <td>20/01/2020</td>\n",
       "      <td>12/04/2020</td>\n",
       "      <td>10.0</td>\n",
       "      <td>4.0</td>\n",
       "      <td>4.0</td>\n",
       "      <td>25.8</td>\n",
       "      <td>86304.1</td>\n",
       "      <td>4.208333</td>\n",
       "    </tr>\n",
       "  </tbody>\n",
       "</table>\n",
       "<p>560915 rows × 9 columns</p>\n",
       "</div>"
      ],
      "text/plain": [
       "                  region_name period_begin  period_end  total_homes_sold  \\\n",
       "2          Johnson County, TX   23/09/2019  15/12/2019             577.0   \n",
       "3           Holmes County, OH   09/10/2017  31/12/2017              22.0   \n",
       "4          Madison County, FL   09/01/2017  02/04/2017              12.0   \n",
       "5            Barry County, MO   23/11/2020  14/02/2021              79.0   \n",
       "6       Sacramento County, CA   22/06/2020  13/09/2020            5107.0   \n",
       "...                       ...          ...         ...               ...   \n",
       "622313     Boulder County, CO   15/01/2018  08/04/2018             973.0   \n",
       "622315    Randolph County, MO   11/03/2019  02/06/2019              21.0   \n",
       "622324    Sullivan County, IN   05/03/2018  27/05/2018               1.0   \n",
       "622329     Clatsop County, OR   03/06/2019  25/08/2019               1.0   \n",
       "622332        Coke County, TX   20/01/2020  12/04/2020              10.0   \n",
       "\n",
       "        inventory  active_listings  age_of_inventory  median_pric  \\\n",
       "2           717.0            778.0              63.0     268737.6   \n",
       "3            52.0             54.0             109.4     115308.3   \n",
       "4            54.0             55.0             151.2     158062.5   \n",
       "5            70.0             77.0              82.8     196509.1   \n",
       "6          1729.0           2206.0              27.5     445540.9   \n",
       "...           ...              ...               ...          ...   \n",
       "622313      746.0            838.0              44.9     647883.0   \n",
       "622315       12.0             13.0              23.5     122793.7   \n",
       "622324       10.0             10.0              87.1      61741.6   \n",
       "622329        4.0              4.0              53.7     650000.0   \n",
       "622332        4.0              4.0              25.8      86304.1   \n",
       "\n",
       "        months_of_supply  \n",
       "2              17.095583  \n",
       "3              34.050000  \n",
       "4              38.300000  \n",
       "5              13.157870  \n",
       "6               5.235794  \n",
       "...                  ...  \n",
       "622313         10.992834  \n",
       "622315          9.219697  \n",
       "622324         10.000000  \n",
       "622329          4.000000  \n",
       "622332          4.208333  \n",
       "\n",
       "[560915 rows x 9 columns]"
      ]
     },
     "execution_count": 11,
     "metadata": {},
     "output_type": "execute_result"
    }
   ],
   "source": [
    "# Handling the missing values with dropna\n",
    "df2_drop = df2.dropna()\n",
    "df2_drop"
   ]
  },
  {
   "cell_type": "markdown",
   "id": "641ae88d",
   "metadata": {
    "papermill": {
     "duration": 0.015006,
     "end_time": "2025-02-21T00:07:27.631508",
     "exception": false,
     "start_time": "2025-02-21T00:07:27.616502",
     "status": "completed"
    },
    "tags": []
   },
   "source": [
    "### 4) Filter the data to remove any rows where total_homes_sold or inventory is missing:"
   ]
  },
  {
   "cell_type": "code",
   "execution_count": 12,
   "id": "8e3dfd15",
   "metadata": {
    "execution": {
     "iopub.execute_input": "2025-02-21T00:07:27.664200Z",
     "iopub.status.busy": "2025-02-21T00:07:27.663250Z",
     "iopub.status.idle": "2025-02-21T00:07:27.725140Z",
     "shell.execute_reply": "2025-02-21T00:07:27.724082Z"
    },
    "papermill": {
     "duration": 0.080429,
     "end_time": "2025-02-21T00:07:27.727283",
     "exception": false,
     "start_time": "2025-02-21T00:07:27.646854",
     "status": "completed"
    },
    "tags": []
   },
   "outputs": [
    {
     "data": {
      "text/html": [
       "<div>\n",
       "<style scoped>\n",
       "    .dataframe tbody tr th:only-of-type {\n",
       "        vertical-align: middle;\n",
       "    }\n",
       "\n",
       "    .dataframe tbody tr th {\n",
       "        vertical-align: top;\n",
       "    }\n",
       "\n",
       "    .dataframe thead th {\n",
       "        text-align: right;\n",
       "    }\n",
       "</style>\n",
       "<table border=\"1\" class=\"dataframe\">\n",
       "  <thead>\n",
       "    <tr style=\"text-align: right;\">\n",
       "      <th></th>\n",
       "      <th>region_name</th>\n",
       "      <th>period_begin</th>\n",
       "      <th>period_end</th>\n",
       "      <th>total_homes_sold</th>\n",
       "      <th>inventory</th>\n",
       "      <th>active_listings</th>\n",
       "      <th>age_of_inventory</th>\n",
       "      <th>median_pric</th>\n",
       "      <th>months_of_supply</th>\n",
       "    </tr>\n",
       "  </thead>\n",
       "  <tbody>\n",
       "    <tr>\n",
       "      <th>2</th>\n",
       "      <td>Johnson County, TX</td>\n",
       "      <td>23/09/2019</td>\n",
       "      <td>15/12/2019</td>\n",
       "      <td>577.0</td>\n",
       "      <td>717.0</td>\n",
       "      <td>778.0</td>\n",
       "      <td>63.0</td>\n",
       "      <td>268737.6</td>\n",
       "      <td>17.095583</td>\n",
       "    </tr>\n",
       "    <tr>\n",
       "      <th>3</th>\n",
       "      <td>Holmes County, OH</td>\n",
       "      <td>09/10/2017</td>\n",
       "      <td>31/12/2017</td>\n",
       "      <td>22.0</td>\n",
       "      <td>52.0</td>\n",
       "      <td>54.0</td>\n",
       "      <td>109.4</td>\n",
       "      <td>115308.3</td>\n",
       "      <td>34.050000</td>\n",
       "    </tr>\n",
       "    <tr>\n",
       "      <th>4</th>\n",
       "      <td>Madison County, FL</td>\n",
       "      <td>09/01/2017</td>\n",
       "      <td>02/04/2017</td>\n",
       "      <td>12.0</td>\n",
       "      <td>54.0</td>\n",
       "      <td>55.0</td>\n",
       "      <td>151.2</td>\n",
       "      <td>158062.5</td>\n",
       "      <td>38.300000</td>\n",
       "    </tr>\n",
       "    <tr>\n",
       "      <th>5</th>\n",
       "      <td>Barry County, MO</td>\n",
       "      <td>23/11/2020</td>\n",
       "      <td>14/02/2021</td>\n",
       "      <td>79.0</td>\n",
       "      <td>70.0</td>\n",
       "      <td>77.0</td>\n",
       "      <td>82.8</td>\n",
       "      <td>196509.1</td>\n",
       "      <td>13.157870</td>\n",
       "    </tr>\n",
       "    <tr>\n",
       "      <th>6</th>\n",
       "      <td>Sacramento County, CA</td>\n",
       "      <td>22/06/2020</td>\n",
       "      <td>13/09/2020</td>\n",
       "      <td>5107.0</td>\n",
       "      <td>1729.0</td>\n",
       "      <td>2206.0</td>\n",
       "      <td>27.5</td>\n",
       "      <td>445540.9</td>\n",
       "      <td>5.235794</td>\n",
       "    </tr>\n",
       "    <tr>\n",
       "      <th>...</th>\n",
       "      <td>...</td>\n",
       "      <td>...</td>\n",
       "      <td>...</td>\n",
       "      <td>...</td>\n",
       "      <td>...</td>\n",
       "      <td>...</td>\n",
       "      <td>...</td>\n",
       "      <td>...</td>\n",
       "      <td>...</td>\n",
       "    </tr>\n",
       "    <tr>\n",
       "      <th>622313</th>\n",
       "      <td>Boulder County, CO</td>\n",
       "      <td>15/01/2018</td>\n",
       "      <td>08/04/2018</td>\n",
       "      <td>973.0</td>\n",
       "      <td>746.0</td>\n",
       "      <td>838.0</td>\n",
       "      <td>44.9</td>\n",
       "      <td>647883.0</td>\n",
       "      <td>10.992834</td>\n",
       "    </tr>\n",
       "    <tr>\n",
       "      <th>622315</th>\n",
       "      <td>Randolph County, MO</td>\n",
       "      <td>11/03/2019</td>\n",
       "      <td>02/06/2019</td>\n",
       "      <td>21.0</td>\n",
       "      <td>12.0</td>\n",
       "      <td>13.0</td>\n",
       "      <td>23.5</td>\n",
       "      <td>122793.7</td>\n",
       "      <td>9.219697</td>\n",
       "    </tr>\n",
       "    <tr>\n",
       "      <th>622324</th>\n",
       "      <td>Sullivan County, IN</td>\n",
       "      <td>05/03/2018</td>\n",
       "      <td>27/05/2018</td>\n",
       "      <td>1.0</td>\n",
       "      <td>10.0</td>\n",
       "      <td>10.0</td>\n",
       "      <td>87.1</td>\n",
       "      <td>61741.6</td>\n",
       "      <td>10.000000</td>\n",
       "    </tr>\n",
       "    <tr>\n",
       "      <th>622329</th>\n",
       "      <td>Clatsop County, OR</td>\n",
       "      <td>03/06/2019</td>\n",
       "      <td>25/08/2019</td>\n",
       "      <td>1.0</td>\n",
       "      <td>4.0</td>\n",
       "      <td>4.0</td>\n",
       "      <td>53.7</td>\n",
       "      <td>650000.0</td>\n",
       "      <td>4.000000</td>\n",
       "    </tr>\n",
       "    <tr>\n",
       "      <th>622332</th>\n",
       "      <td>Coke County, TX</td>\n",
       "      <td>20/01/2020</td>\n",
       "      <td>12/04/2020</td>\n",
       "      <td>10.0</td>\n",
       "      <td>4.0</td>\n",
       "      <td>4.0</td>\n",
       "      <td>25.8</td>\n",
       "      <td>86304.1</td>\n",
       "      <td>4.208333</td>\n",
       "    </tr>\n",
       "  </tbody>\n",
       "</table>\n",
       "<p>562063 rows × 9 columns</p>\n",
       "</div>"
      ],
      "text/plain": [
       "                  region_name period_begin  period_end  total_homes_sold  \\\n",
       "2          Johnson County, TX   23/09/2019  15/12/2019             577.0   \n",
       "3           Holmes County, OH   09/10/2017  31/12/2017              22.0   \n",
       "4          Madison County, FL   09/01/2017  02/04/2017              12.0   \n",
       "5            Barry County, MO   23/11/2020  14/02/2021              79.0   \n",
       "6       Sacramento County, CA   22/06/2020  13/09/2020            5107.0   \n",
       "...                       ...          ...         ...               ...   \n",
       "622313     Boulder County, CO   15/01/2018  08/04/2018             973.0   \n",
       "622315    Randolph County, MO   11/03/2019  02/06/2019              21.0   \n",
       "622324    Sullivan County, IN   05/03/2018  27/05/2018               1.0   \n",
       "622329     Clatsop County, OR   03/06/2019  25/08/2019               1.0   \n",
       "622332        Coke County, TX   20/01/2020  12/04/2020              10.0   \n",
       "\n",
       "        inventory  active_listings  age_of_inventory  median_pric  \\\n",
       "2           717.0            778.0              63.0     268737.6   \n",
       "3            52.0             54.0             109.4     115308.3   \n",
       "4            54.0             55.0             151.2     158062.5   \n",
       "5            70.0             77.0              82.8     196509.1   \n",
       "6          1729.0           2206.0              27.5     445540.9   \n",
       "...           ...              ...               ...          ...   \n",
       "622313      746.0            838.0              44.9     647883.0   \n",
       "622315       12.0             13.0              23.5     122793.7   \n",
       "622324       10.0             10.0              87.1      61741.6   \n",
       "622329        4.0              4.0              53.7     650000.0   \n",
       "622332        4.0              4.0              25.8      86304.1   \n",
       "\n",
       "        months_of_supply  \n",
       "2              17.095583  \n",
       "3              34.050000  \n",
       "4              38.300000  \n",
       "5              13.157870  \n",
       "6               5.235794  \n",
       "...                  ...  \n",
       "622313         10.992834  \n",
       "622315          9.219697  \n",
       "622324         10.000000  \n",
       "622329          4.000000  \n",
       "622332          4.208333  \n",
       "\n",
       "[562063 rows x 9 columns]"
      ]
     },
     "execution_count": 12,
     "metadata": {},
     "output_type": "execute_result"
    }
   ],
   "source": [
    "df2_drop2 = df2.dropna(subset=['total_homes_sold', 'inventory'])\n",
    "df2_drop2"
   ]
  },
  {
   "cell_type": "markdown",
   "id": "5802d9d4",
   "metadata": {
    "papermill": {
     "duration": 0.015238,
     "end_time": "2025-02-21T00:07:27.758298",
     "exception": false,
     "start_time": "2025-02-21T00:07:27.743060",
     "status": "completed"
    },
    "tags": []
   },
   "source": [
    "### 5) Instead of dropping rows with missing total_homes_sold or inventory, replace these missing values with the mean of their respective columns:"
   ]
  },
  {
   "cell_type": "code",
   "execution_count": 13,
   "id": "dd18f5b5",
   "metadata": {
    "execution": {
     "iopub.execute_input": "2025-02-21T00:07:27.790830Z",
     "iopub.status.busy": "2025-02-21T00:07:27.790369Z",
     "iopub.status.idle": "2025-02-21T00:07:27.847667Z",
     "shell.execute_reply": "2025-02-21T00:07:27.846499Z"
    },
    "papermill": {
     "duration": 0.075997,
     "end_time": "2025-02-21T00:07:27.849790",
     "exception": false,
     "start_time": "2025-02-21T00:07:27.773793",
     "status": "completed"
    },
    "tags": []
   },
   "outputs": [
    {
     "data": {
      "text/html": [
       "<div>\n",
       "<style scoped>\n",
       "    .dataframe tbody tr th:only-of-type {\n",
       "        vertical-align: middle;\n",
       "    }\n",
       "\n",
       "    .dataframe tbody tr th {\n",
       "        vertical-align: top;\n",
       "    }\n",
       "\n",
       "    .dataframe thead th {\n",
       "        text-align: right;\n",
       "    }\n",
       "</style>\n",
       "<table border=\"1\" class=\"dataframe\">\n",
       "  <thead>\n",
       "    <tr style=\"text-align: right;\">\n",
       "      <th></th>\n",
       "      <th>region_name</th>\n",
       "      <th>period_begin</th>\n",
       "      <th>period_end</th>\n",
       "      <th>total_homes_sold</th>\n",
       "      <th>inventory</th>\n",
       "      <th>active_listings</th>\n",
       "      <th>age_of_inventory</th>\n",
       "      <th>median_pric</th>\n",
       "      <th>months_of_supply</th>\n",
       "    </tr>\n",
       "  </thead>\n",
       "  <tbody>\n",
       "    <tr>\n",
       "      <th>0</th>\n",
       "      <td>Appling County, GA</td>\n",
       "      <td>27/04/2020</td>\n",
       "      <td>19/07/2020</td>\n",
       "      <td>465.184219</td>\n",
       "      <td>1.0</td>\n",
       "      <td>1.0</td>\n",
       "      <td>222.7</td>\n",
       "      <td>136195.8</td>\n",
       "      <td>NaN</td>\n",
       "    </tr>\n",
       "    <tr>\n",
       "      <th>1</th>\n",
       "      <td>Tooele County, UT</td>\n",
       "      <td>27/08/2018</td>\n",
       "      <td>18/11/2018</td>\n",
       "      <td>325.000000</td>\n",
       "      <td>NaN</td>\n",
       "      <td>NaN</td>\n",
       "      <td>NaN</td>\n",
       "      <td>NaN</td>\n",
       "      <td>NaN</td>\n",
       "    </tr>\n",
       "    <tr>\n",
       "      <th>2</th>\n",
       "      <td>Johnson County, TX</td>\n",
       "      <td>23/09/2019</td>\n",
       "      <td>15/12/2019</td>\n",
       "      <td>577.000000</td>\n",
       "      <td>717.0</td>\n",
       "      <td>778.0</td>\n",
       "      <td>63.0</td>\n",
       "      <td>268737.6</td>\n",
       "      <td>17.095583</td>\n",
       "    </tr>\n",
       "    <tr>\n",
       "      <th>3</th>\n",
       "      <td>Holmes County, OH</td>\n",
       "      <td>09/10/2017</td>\n",
       "      <td>31/12/2017</td>\n",
       "      <td>22.000000</td>\n",
       "      <td>52.0</td>\n",
       "      <td>54.0</td>\n",
       "      <td>109.4</td>\n",
       "      <td>115308.3</td>\n",
       "      <td>34.050000</td>\n",
       "    </tr>\n",
       "    <tr>\n",
       "      <th>4</th>\n",
       "      <td>Madison County, FL</td>\n",
       "      <td>09/01/2017</td>\n",
       "      <td>02/04/2017</td>\n",
       "      <td>12.000000</td>\n",
       "      <td>54.0</td>\n",
       "      <td>55.0</td>\n",
       "      <td>151.2</td>\n",
       "      <td>158062.5</td>\n",
       "      <td>38.300000</td>\n",
       "    </tr>\n",
       "    <tr>\n",
       "      <th>...</th>\n",
       "      <td>...</td>\n",
       "      <td>...</td>\n",
       "      <td>...</td>\n",
       "      <td>...</td>\n",
       "      <td>...</td>\n",
       "      <td>...</td>\n",
       "      <td>...</td>\n",
       "      <td>...</td>\n",
       "      <td>...</td>\n",
       "    </tr>\n",
       "    <tr>\n",
       "      <th>622334</th>\n",
       "      <td>Washita County, OK</td>\n",
       "      <td>25/11/2019</td>\n",
       "      <td>16/02/2020</td>\n",
       "      <td>465.184219</td>\n",
       "      <td>4.0</td>\n",
       "      <td>4.0</td>\n",
       "      <td>133.0</td>\n",
       "      <td>46650.0</td>\n",
       "      <td>NaN</td>\n",
       "    </tr>\n",
       "    <tr>\n",
       "      <th>622335</th>\n",
       "      <td>Gray County, TX</td>\n",
       "      <td>25/02/2019</td>\n",
       "      <td>19/05/2019</td>\n",
       "      <td>465.184219</td>\n",
       "      <td>1.0</td>\n",
       "      <td>1.0</td>\n",
       "      <td>180.5</td>\n",
       "      <td>62500.0</td>\n",
       "      <td>NaN</td>\n",
       "    </tr>\n",
       "    <tr>\n",
       "      <th>622336</th>\n",
       "      <td>Custer County, OK</td>\n",
       "      <td>24/02/2020</td>\n",
       "      <td>17/05/2020</td>\n",
       "      <td>465.184219</td>\n",
       "      <td>15.0</td>\n",
       "      <td>15.0</td>\n",
       "      <td>52.7</td>\n",
       "      <td>130120.8</td>\n",
       "      <td>NaN</td>\n",
       "    </tr>\n",
       "    <tr>\n",
       "      <th>622337</th>\n",
       "      <td>Choctaw County, MS</td>\n",
       "      <td>30/12/2019</td>\n",
       "      <td>22/03/2020</td>\n",
       "      <td>465.184219</td>\n",
       "      <td>2.0</td>\n",
       "      <td>3.0</td>\n",
       "      <td>46.0</td>\n",
       "      <td>115268.7</td>\n",
       "      <td>NaN</td>\n",
       "    </tr>\n",
       "    <tr>\n",
       "      <th>622338</th>\n",
       "      <td>Morehouse Parish, LA</td>\n",
       "      <td>14/02/2022</td>\n",
       "      <td>08/05/2022</td>\n",
       "      <td>465.184219</td>\n",
       "      <td>30.0</td>\n",
       "      <td>33.0</td>\n",
       "      <td>59.7</td>\n",
       "      <td>139979.1</td>\n",
       "      <td>NaN</td>\n",
       "    </tr>\n",
       "  </tbody>\n",
       "</table>\n",
       "<p>622339 rows × 9 columns</p>\n",
       "</div>"
      ],
      "text/plain": [
       "                 region_name period_begin  period_end  total_homes_sold  \\\n",
       "0         Appling County, GA   27/04/2020  19/07/2020        465.184219   \n",
       "1          Tooele County, UT   27/08/2018  18/11/2018        325.000000   \n",
       "2         Johnson County, TX   23/09/2019  15/12/2019        577.000000   \n",
       "3          Holmes County, OH   09/10/2017  31/12/2017         22.000000   \n",
       "4         Madison County, FL   09/01/2017  02/04/2017         12.000000   \n",
       "...                      ...          ...         ...               ...   \n",
       "622334    Washita County, OK   25/11/2019  16/02/2020        465.184219   \n",
       "622335       Gray County, TX   25/02/2019  19/05/2019        465.184219   \n",
       "622336     Custer County, OK   24/02/2020  17/05/2020        465.184219   \n",
       "622337    Choctaw County, MS   30/12/2019  22/03/2020        465.184219   \n",
       "622338  Morehouse Parish, LA   14/02/2022  08/05/2022        465.184219   \n",
       "\n",
       "        inventory  active_listings  age_of_inventory  median_pric  \\\n",
       "0             1.0              1.0             222.7     136195.8   \n",
       "1             NaN              NaN               NaN          NaN   \n",
       "2           717.0            778.0              63.0     268737.6   \n",
       "3            52.0             54.0             109.4     115308.3   \n",
       "4            54.0             55.0             151.2     158062.5   \n",
       "...           ...              ...               ...          ...   \n",
       "622334        4.0              4.0             133.0      46650.0   \n",
       "622335        1.0              1.0             180.5      62500.0   \n",
       "622336       15.0             15.0              52.7     130120.8   \n",
       "622337        2.0              3.0              46.0     115268.7   \n",
       "622338       30.0             33.0              59.7     139979.1   \n",
       "\n",
       "        months_of_supply  \n",
       "0                    NaN  \n",
       "1                    NaN  \n",
       "2              17.095583  \n",
       "3              34.050000  \n",
       "4              38.300000  \n",
       "...                  ...  \n",
       "622334               NaN  \n",
       "622335               NaN  \n",
       "622336               NaN  \n",
       "622337               NaN  \n",
       "622338               NaN  \n",
       "\n",
       "[622339 rows x 9 columns]"
      ]
     },
     "execution_count": 13,
     "metadata": {},
     "output_type": "execute_result"
    }
   ],
   "source": [
    "df2_fill = df2.copy()\n",
    "df2_fill['total_homes_sold'] = df2['total_homes_sold'].fillna(df2['total_homes_sold'].mean())\n",
    "df2_fill"
   ]
  },
  {
   "cell_type": "markdown",
   "id": "79256156",
   "metadata": {
    "papermill": {
     "duration": 0.015589,
     "end_time": "2025-02-21T00:07:27.881280",
     "exception": false,
     "start_time": "2025-02-21T00:07:27.865691",
     "status": "completed"
    },
    "tags": []
   },
   "source": [
    "### 6) Standardize the date format in the period_begin and period_end columns, ensuring that all dates are in YYYY-MM-DD format."
   ]
  },
  {
   "cell_type": "code",
   "execution_count": 14,
   "id": "10ae6b52",
   "metadata": {
    "execution": {
     "iopub.execute_input": "2025-02-21T00:07:27.915263Z",
     "iopub.status.busy": "2025-02-21T00:07:27.914300Z",
     "iopub.status.idle": "2025-02-21T00:07:29.041004Z",
     "shell.execute_reply": "2025-02-21T00:07:29.039884Z"
    },
    "papermill": {
     "duration": 1.145827,
     "end_time": "2025-02-21T00:07:29.043104",
     "exception": false,
     "start_time": "2025-02-21T00:07:27.897277",
     "status": "completed"
    },
    "tags": []
   },
   "outputs": [
    {
     "name": "stderr",
     "output_type": "stream",
     "text": [
      "/tmp/ipykernel_18/3710005060.py:1: UserWarning: Parsing dates in %d/%m/%Y format when dayfirst=False (the default) was specified. Pass `dayfirst=True` or specify a format to silence this warning.\n",
      "  df2['period_begin'] = pd.to_datetime(df['period_begin']).dt.strftime('%Y-%m-%d')\n",
      "/tmp/ipykernel_18/3710005060.py:2: UserWarning: Parsing dates in %d/%m/%Y format when dayfirst=False (the default) was specified. Pass `dayfirst=True` or specify a format to silence this warning.\n",
      "  df2['period_end'] = pd.to_datetime(df['period_end']).dt.strftime('%Y-%m-%d')\n"
     ]
    },
    {
     "data": {
      "text/html": [
       "<div>\n",
       "<style scoped>\n",
       "    .dataframe tbody tr th:only-of-type {\n",
       "        vertical-align: middle;\n",
       "    }\n",
       "\n",
       "    .dataframe tbody tr th {\n",
       "        vertical-align: top;\n",
       "    }\n",
       "\n",
       "    .dataframe thead th {\n",
       "        text-align: right;\n",
       "    }\n",
       "</style>\n",
       "<table border=\"1\" class=\"dataframe\">\n",
       "  <thead>\n",
       "    <tr style=\"text-align: right;\">\n",
       "      <th></th>\n",
       "      <th>region_name</th>\n",
       "      <th>period_begin</th>\n",
       "      <th>period_end</th>\n",
       "      <th>total_homes_sold</th>\n",
       "      <th>inventory</th>\n",
       "      <th>active_listings</th>\n",
       "      <th>age_of_inventory</th>\n",
       "      <th>median_pric</th>\n",
       "      <th>months_of_supply</th>\n",
       "    </tr>\n",
       "  </thead>\n",
       "  <tbody>\n",
       "    <tr>\n",
       "      <th>0</th>\n",
       "      <td>Appling County, GA</td>\n",
       "      <td>2020-04-27</td>\n",
       "      <td>2020-07-19</td>\n",
       "      <td>NaN</td>\n",
       "      <td>1.0</td>\n",
       "      <td>1.0</td>\n",
       "      <td>222.7</td>\n",
       "      <td>136195.8</td>\n",
       "      <td>NaN</td>\n",
       "    </tr>\n",
       "    <tr>\n",
       "      <th>1</th>\n",
       "      <td>Tooele County, UT</td>\n",
       "      <td>2018-08-27</td>\n",
       "      <td>2018-11-18</td>\n",
       "      <td>325.0</td>\n",
       "      <td>NaN</td>\n",
       "      <td>NaN</td>\n",
       "      <td>NaN</td>\n",
       "      <td>NaN</td>\n",
       "      <td>NaN</td>\n",
       "    </tr>\n",
       "    <tr>\n",
       "      <th>2</th>\n",
       "      <td>Johnson County, TX</td>\n",
       "      <td>2019-09-23</td>\n",
       "      <td>2019-12-15</td>\n",
       "      <td>577.0</td>\n",
       "      <td>717.0</td>\n",
       "      <td>778.0</td>\n",
       "      <td>63.0</td>\n",
       "      <td>268737.6</td>\n",
       "      <td>17.095583</td>\n",
       "    </tr>\n",
       "    <tr>\n",
       "      <th>3</th>\n",
       "      <td>Holmes County, OH</td>\n",
       "      <td>2017-10-09</td>\n",
       "      <td>2017-12-31</td>\n",
       "      <td>22.0</td>\n",
       "      <td>52.0</td>\n",
       "      <td>54.0</td>\n",
       "      <td>109.4</td>\n",
       "      <td>115308.3</td>\n",
       "      <td>34.050000</td>\n",
       "    </tr>\n",
       "    <tr>\n",
       "      <th>4</th>\n",
       "      <td>Madison County, FL</td>\n",
       "      <td>2017-01-09</td>\n",
       "      <td>2017-04-02</td>\n",
       "      <td>12.0</td>\n",
       "      <td>54.0</td>\n",
       "      <td>55.0</td>\n",
       "      <td>151.2</td>\n",
       "      <td>158062.5</td>\n",
       "      <td>38.300000</td>\n",
       "    </tr>\n",
       "    <tr>\n",
       "      <th>...</th>\n",
       "      <td>...</td>\n",
       "      <td>...</td>\n",
       "      <td>...</td>\n",
       "      <td>...</td>\n",
       "      <td>...</td>\n",
       "      <td>...</td>\n",
       "      <td>...</td>\n",
       "      <td>...</td>\n",
       "      <td>...</td>\n",
       "    </tr>\n",
       "    <tr>\n",
       "      <th>622334</th>\n",
       "      <td>Washita County, OK</td>\n",
       "      <td>2019-11-25</td>\n",
       "      <td>2020-02-16</td>\n",
       "      <td>NaN</td>\n",
       "      <td>4.0</td>\n",
       "      <td>4.0</td>\n",
       "      <td>133.0</td>\n",
       "      <td>46650.0</td>\n",
       "      <td>NaN</td>\n",
       "    </tr>\n",
       "    <tr>\n",
       "      <th>622335</th>\n",
       "      <td>Gray County, TX</td>\n",
       "      <td>2019-02-25</td>\n",
       "      <td>2019-05-19</td>\n",
       "      <td>NaN</td>\n",
       "      <td>1.0</td>\n",
       "      <td>1.0</td>\n",
       "      <td>180.5</td>\n",
       "      <td>62500.0</td>\n",
       "      <td>NaN</td>\n",
       "    </tr>\n",
       "    <tr>\n",
       "      <th>622336</th>\n",
       "      <td>Custer County, OK</td>\n",
       "      <td>2020-02-24</td>\n",
       "      <td>2020-05-17</td>\n",
       "      <td>NaN</td>\n",
       "      <td>15.0</td>\n",
       "      <td>15.0</td>\n",
       "      <td>52.7</td>\n",
       "      <td>130120.8</td>\n",
       "      <td>NaN</td>\n",
       "    </tr>\n",
       "    <tr>\n",
       "      <th>622337</th>\n",
       "      <td>Choctaw County, MS</td>\n",
       "      <td>2019-12-30</td>\n",
       "      <td>2020-03-22</td>\n",
       "      <td>NaN</td>\n",
       "      <td>2.0</td>\n",
       "      <td>3.0</td>\n",
       "      <td>46.0</td>\n",
       "      <td>115268.7</td>\n",
       "      <td>NaN</td>\n",
       "    </tr>\n",
       "    <tr>\n",
       "      <th>622338</th>\n",
       "      <td>Morehouse Parish, LA</td>\n",
       "      <td>2022-02-14</td>\n",
       "      <td>2022-05-08</td>\n",
       "      <td>NaN</td>\n",
       "      <td>30.0</td>\n",
       "      <td>33.0</td>\n",
       "      <td>59.7</td>\n",
       "      <td>139979.1</td>\n",
       "      <td>NaN</td>\n",
       "    </tr>\n",
       "  </tbody>\n",
       "</table>\n",
       "<p>622339 rows × 9 columns</p>\n",
       "</div>"
      ],
      "text/plain": [
       "                 region_name period_begin  period_end  total_homes_sold  \\\n",
       "0         Appling County, GA   2020-04-27  2020-07-19               NaN   \n",
       "1          Tooele County, UT   2018-08-27  2018-11-18             325.0   \n",
       "2         Johnson County, TX   2019-09-23  2019-12-15             577.0   \n",
       "3          Holmes County, OH   2017-10-09  2017-12-31              22.0   \n",
       "4         Madison County, FL   2017-01-09  2017-04-02              12.0   \n",
       "...                      ...          ...         ...               ...   \n",
       "622334    Washita County, OK   2019-11-25  2020-02-16               NaN   \n",
       "622335       Gray County, TX   2019-02-25  2019-05-19               NaN   \n",
       "622336     Custer County, OK   2020-02-24  2020-05-17               NaN   \n",
       "622337    Choctaw County, MS   2019-12-30  2020-03-22               NaN   \n",
       "622338  Morehouse Parish, LA   2022-02-14  2022-05-08               NaN   \n",
       "\n",
       "        inventory  active_listings  age_of_inventory  median_pric  \\\n",
       "0             1.0              1.0             222.7     136195.8   \n",
       "1             NaN              NaN               NaN          NaN   \n",
       "2           717.0            778.0              63.0     268737.6   \n",
       "3            52.0             54.0             109.4     115308.3   \n",
       "4            54.0             55.0             151.2     158062.5   \n",
       "...           ...              ...               ...          ...   \n",
       "622334        4.0              4.0             133.0      46650.0   \n",
       "622335        1.0              1.0             180.5      62500.0   \n",
       "622336       15.0             15.0              52.7     130120.8   \n",
       "622337        2.0              3.0              46.0     115268.7   \n",
       "622338       30.0             33.0              59.7     139979.1   \n",
       "\n",
       "        months_of_supply  \n",
       "0                    NaN  \n",
       "1                    NaN  \n",
       "2              17.095583  \n",
       "3              34.050000  \n",
       "4              38.300000  \n",
       "...                  ...  \n",
       "622334               NaN  \n",
       "622335               NaN  \n",
       "622336               NaN  \n",
       "622337               NaN  \n",
       "622338               NaN  \n",
       "\n",
       "[622339 rows x 9 columns]"
      ]
     },
     "execution_count": 14,
     "metadata": {},
     "output_type": "execute_result"
    }
   ],
   "source": [
    "df2['period_begin'] = pd.to_datetime(df['period_begin']).dt.strftime('%Y-%m-%d')\n",
    "df2['period_end'] = pd.to_datetime(df['period_end']).dt.strftime('%Y-%m-%d')\n",
    "df2"
   ]
  },
  {
   "cell_type": "markdown",
   "id": "28942042",
   "metadata": {
    "papermill": {
     "duration": 0.01582,
     "end_time": "2025-02-21T00:07:29.075533",
     "exception": false,
     "start_time": "2025-02-21T00:07:29.059713",
     "status": "completed"
    },
    "tags": []
   },
   "source": [
    "### 7) Check if there are any duplicate rows in the dataset based on the combination of region_name, period_begin, and period_end and remove them."
   ]
  },
  {
   "cell_type": "code",
   "execution_count": 15,
   "id": "426353e7",
   "metadata": {
    "execution": {
     "iopub.execute_input": "2025-02-21T00:07:29.109780Z",
     "iopub.status.busy": "2025-02-21T00:07:29.109399Z",
     "iopub.status.idle": "2025-02-21T00:07:29.297616Z",
     "shell.execute_reply": "2025-02-21T00:07:29.296519Z"
    },
    "papermill": {
     "duration": 0.207882,
     "end_time": "2025-02-21T00:07:29.299772",
     "exception": false,
     "start_time": "2025-02-21T00:07:29.091890",
     "status": "completed"
    },
    "tags": []
   },
   "outputs": [
    {
     "name": "stdout",
     "output_type": "stream",
     "text": [
      "0\n"
     ]
    }
   ],
   "source": [
    "duplicates = df2.duplicated(subset=['region_name', 'period_begin', 'period_end'])\n",
    "print(duplicates.sum())"
   ]
  },
  {
   "cell_type": "code",
   "execution_count": 16,
   "id": "eee8727c",
   "metadata": {
    "execution": {
     "iopub.execute_input": "2025-02-21T00:07:29.333787Z",
     "iopub.status.busy": "2025-02-21T00:07:29.333395Z",
     "iopub.status.idle": "2025-02-21T00:07:29.616804Z",
     "shell.execute_reply": "2025-02-21T00:07:29.615831Z"
    },
    "papermill": {
     "duration": 0.302992,
     "end_time": "2025-02-21T00:07:29.619222",
     "exception": false,
     "start_time": "2025-02-21T00:07:29.316230",
     "status": "completed"
    },
    "tags": []
   },
   "outputs": [
    {
     "data": {
      "text/plain": [
       "(622339, 9)"
      ]
     },
     "execution_count": 16,
     "metadata": {},
     "output_type": "execute_result"
    }
   ],
   "source": [
    "df_cleaned = df2.drop_duplicates(subset=['region_name', 'period_begin', 'period_end'])\n",
    "df_cleaned.shape"
   ]
  },
  {
   "cell_type": "markdown",
   "id": "54cf156a",
   "metadata": {
    "papermill": {
     "duration": 0.018789,
     "end_time": "2025-02-21T00:07:29.655497",
     "exception": false,
     "start_time": "2025-02-21T00:07:29.636708",
     "status": "completed"
    },
    "tags": []
   },
   "source": [
    "## PART3:"
   ]
  },
  {
   "cell_type": "markdown",
   "id": "1d2be2df",
   "metadata": {
    "papermill": {
     "duration": 0.016058,
     "end_time": "2025-02-21T00:07:29.688654",
     "exception": false,
     "start_time": "2025-02-21T00:07:29.672596",
     "status": "completed"
    },
    "tags": []
   },
   "source": [
    "### Getting the outliers"
   ]
  },
  {
   "cell_type": "code",
   "execution_count": 17,
   "id": "32285222",
   "metadata": {
    "execution": {
     "iopub.execute_input": "2025-02-21T00:07:29.723169Z",
     "iopub.status.busy": "2025-02-21T00:07:29.722808Z",
     "iopub.status.idle": "2025-02-21T00:07:29.772815Z",
     "shell.execute_reply": "2025-02-21T00:07:29.771753Z"
    },
    "papermill": {
     "duration": 0.069986,
     "end_time": "2025-02-21T00:07:29.775080",
     "exception": false,
     "start_time": "2025-02-21T00:07:29.705094",
     "status": "completed"
    },
    "tags": []
   },
   "outputs": [
    {
     "name": "stdout",
     "output_type": "stream",
     "text": [
      "                   region_name period_begin  period_end  total_homes_sold  \\\n",
      "20           Summit County, UT   2020-11-23  2021-02-14             600.0   \n",
      "51          Wasatch County, UT   2017-11-20  2018-02-11             159.0   \n",
      "81            Grand County, CO   2019-04-22  2019-07-14               1.0   \n",
      "95              Alexandria, VA   2018-09-10  2018-12-02             611.0   \n",
      "100     Mecklenburg County, VA   2021-05-10  2021-08-01               8.0   \n",
      "...                        ...          ...         ...               ...   \n",
      "622313      Boulder County, CO   2018-01-15  2018-04-08             973.0   \n",
      "622314         Clay County, MS   2018-04-23  2018-07-15               NaN   \n",
      "622316        Garza County, TX   2018-01-29  2018-04-22               NaN   \n",
      "622329      Clatsop County, OR   2019-06-03  2019-08-25               1.0   \n",
      "622330        Ozark County, MO   2017-03-06  2017-05-28               NaN   \n",
      "\n",
      "        inventory  active_listings  age_of_inventory  median_pric  \\\n",
      "20          399.0            451.0              79.0    1365750.0   \n",
      "51          331.0            347.0             103.8     608115.7   \n",
      "81            1.0              1.0              52.1     891000.0   \n",
      "95          489.0            550.0              42.1     572586.6   \n",
      "100           1.0              1.0             355.0     750000.0   \n",
      "...           ...              ...               ...          ...   \n",
      "622313      746.0            838.0              44.9     647883.0   \n",
      "622314        1.0              1.0             288.5    2975000.0   \n",
      "622316        1.0              1.0             289.5     675000.0   \n",
      "622329        4.0              4.0              53.7     650000.0   \n",
      "622330        1.0              1.0             317.5     799900.0   \n",
      "\n",
      "        months_of_supply  \n",
      "20             10.324599  \n",
      "51             32.646578  \n",
      "81              1.000000  \n",
      "95             11.818984  \n",
      "100             0.500000  \n",
      "...                  ...  \n",
      "622313         10.992834  \n",
      "622314               NaN  \n",
      "622316               NaN  \n",
      "622329          4.000000  \n",
      "622330               NaN  \n",
      "\n",
      "[31960 rows x 9 columns]\n"
     ]
    }
   ],
   "source": [
    "# Calculate Q1 (25th percentile) and Q3 (75th percentile)\n",
    "Q1 = df2['median_pric'].quantile(0.25)\n",
    "Q3 = df2['median_pric'].quantile(0.75)\n",
    "\n",
    "# Calculate IQR (Interquartile Range)\n",
    "IQR = Q3 - Q1\n",
    "\n",
    "# Define the lower and upper bound to identify outliers\n",
    "lower_bound = Q1 - 1.5 * IQR\n",
    "upper_bound = Q3 + 1.5 * IQR\n",
    "\n",
    "\n",
    "outliers = df2[(df2['median_pric'] < lower_bound) | (df2['median_pric'] > upper_bound)]\n",
    "print(outliers)"
   ]
  },
  {
   "cell_type": "markdown",
   "id": "40aeb2d7",
   "metadata": {
    "papermill": {
     "duration": 0.016761,
     "end_time": "2025-02-21T00:07:29.808723",
     "exception": false,
     "start_time": "2025-02-21T00:07:29.791962",
     "status": "completed"
    },
    "tags": []
   },
   "source": [
    "### handling the outliers"
   ]
  },
  {
   "cell_type": "code",
   "execution_count": 18,
   "id": "61a51467",
   "metadata": {
    "execution": {
     "iopub.execute_input": "2025-02-21T00:07:29.842606Z",
     "iopub.status.busy": "2025-02-21T00:07:29.842226Z",
     "iopub.status.idle": "2025-02-21T00:07:29.852651Z",
     "shell.execute_reply": "2025-02-21T00:07:29.851613Z"
    },
    "papermill": {
     "duration": 0.030141,
     "end_time": "2025-02-21T00:07:29.855035",
     "exception": false,
     "start_time": "2025-02-21T00:07:29.824894",
     "status": "completed"
    },
    "tags": []
   },
   "outputs": [],
   "source": [
    "df2['median_pric'] = np.where(df2['median_pric'] > upper_bound, upper_bound,\n",
    "                                          np.where(df2['median_pric'] < lower_bound, lower_bound, df2['median_pric']))"
   ]
  },
  {
   "cell_type": "code",
   "execution_count": 19,
   "id": "c607eea2",
   "metadata": {
    "execution": {
     "iopub.execute_input": "2025-02-21T00:07:29.890168Z",
     "iopub.status.busy": "2025-02-21T00:07:29.889489Z",
     "iopub.status.idle": "2025-02-21T00:07:29.906467Z",
     "shell.execute_reply": "2025-02-21T00:07:29.905465Z"
    },
    "papermill": {
     "duration": 0.036531,
     "end_time": "2025-02-21T00:07:29.908452",
     "exception": false,
     "start_time": "2025-02-21T00:07:29.871921",
     "status": "completed"
    },
    "tags": []
   },
   "outputs": [
    {
     "data": {
      "text/html": [
       "<div>\n",
       "<style scoped>\n",
       "    .dataframe tbody tr th:only-of-type {\n",
       "        vertical-align: middle;\n",
       "    }\n",
       "\n",
       "    .dataframe tbody tr th {\n",
       "        vertical-align: top;\n",
       "    }\n",
       "\n",
       "    .dataframe thead th {\n",
       "        text-align: right;\n",
       "    }\n",
       "</style>\n",
       "<table border=\"1\" class=\"dataframe\">\n",
       "  <thead>\n",
       "    <tr style=\"text-align: right;\">\n",
       "      <th></th>\n",
       "      <th>region_name</th>\n",
       "      <th>period_begin</th>\n",
       "      <th>period_end</th>\n",
       "      <th>total_homes_sold</th>\n",
       "      <th>inventory</th>\n",
       "      <th>active_listings</th>\n",
       "      <th>age_of_inventory</th>\n",
       "      <th>median_pric</th>\n",
       "      <th>months_of_supply</th>\n",
       "    </tr>\n",
       "  </thead>\n",
       "  <tbody>\n",
       "    <tr>\n",
       "      <th>0</th>\n",
       "      <td>Appling County, GA</td>\n",
       "      <td>2020-04-27</td>\n",
       "      <td>2020-07-19</td>\n",
       "      <td>NaN</td>\n",
       "      <td>1.0</td>\n",
       "      <td>1.0</td>\n",
       "      <td>222.7</td>\n",
       "      <td>136195.8</td>\n",
       "      <td>NaN</td>\n",
       "    </tr>\n",
       "    <tr>\n",
       "      <th>1</th>\n",
       "      <td>Tooele County, UT</td>\n",
       "      <td>2018-08-27</td>\n",
       "      <td>2018-11-18</td>\n",
       "      <td>325.0</td>\n",
       "      <td>NaN</td>\n",
       "      <td>NaN</td>\n",
       "      <td>NaN</td>\n",
       "      <td>NaN</td>\n",
       "      <td>NaN</td>\n",
       "    </tr>\n",
       "    <tr>\n",
       "      <th>2</th>\n",
       "      <td>Johnson County, TX</td>\n",
       "      <td>2019-09-23</td>\n",
       "      <td>2019-12-15</td>\n",
       "      <td>577.0</td>\n",
       "      <td>717.0</td>\n",
       "      <td>778.0</td>\n",
       "      <td>63.0</td>\n",
       "      <td>268737.6</td>\n",
       "      <td>17.095583</td>\n",
       "    </tr>\n",
       "    <tr>\n",
       "      <th>3</th>\n",
       "      <td>Holmes County, OH</td>\n",
       "      <td>2017-10-09</td>\n",
       "      <td>2017-12-31</td>\n",
       "      <td>22.0</td>\n",
       "      <td>52.0</td>\n",
       "      <td>54.0</td>\n",
       "      <td>109.4</td>\n",
       "      <td>115308.3</td>\n",
       "      <td>34.050000</td>\n",
       "    </tr>\n",
       "    <tr>\n",
       "      <th>4</th>\n",
       "      <td>Madison County, FL</td>\n",
       "      <td>2017-01-09</td>\n",
       "      <td>2017-04-02</td>\n",
       "      <td>12.0</td>\n",
       "      <td>54.0</td>\n",
       "      <td>55.0</td>\n",
       "      <td>151.2</td>\n",
       "      <td>158062.5</td>\n",
       "      <td>38.300000</td>\n",
       "    </tr>\n",
       "    <tr>\n",
       "      <th>...</th>\n",
       "      <td>...</td>\n",
       "      <td>...</td>\n",
       "      <td>...</td>\n",
       "      <td>...</td>\n",
       "      <td>...</td>\n",
       "      <td>...</td>\n",
       "      <td>...</td>\n",
       "      <td>...</td>\n",
       "      <td>...</td>\n",
       "    </tr>\n",
       "    <tr>\n",
       "      <th>622334</th>\n",
       "      <td>Washita County, OK</td>\n",
       "      <td>2019-11-25</td>\n",
       "      <td>2020-02-16</td>\n",
       "      <td>NaN</td>\n",
       "      <td>4.0</td>\n",
       "      <td>4.0</td>\n",
       "      <td>133.0</td>\n",
       "      <td>46650.0</td>\n",
       "      <td>NaN</td>\n",
       "    </tr>\n",
       "    <tr>\n",
       "      <th>622335</th>\n",
       "      <td>Gray County, TX</td>\n",
       "      <td>2019-02-25</td>\n",
       "      <td>2019-05-19</td>\n",
       "      <td>NaN</td>\n",
       "      <td>1.0</td>\n",
       "      <td>1.0</td>\n",
       "      <td>180.5</td>\n",
       "      <td>62500.0</td>\n",
       "      <td>NaN</td>\n",
       "    </tr>\n",
       "    <tr>\n",
       "      <th>622336</th>\n",
       "      <td>Custer County, OK</td>\n",
       "      <td>2020-02-24</td>\n",
       "      <td>2020-05-17</td>\n",
       "      <td>NaN</td>\n",
       "      <td>15.0</td>\n",
       "      <td>15.0</td>\n",
       "      <td>52.7</td>\n",
       "      <td>130120.8</td>\n",
       "      <td>NaN</td>\n",
       "    </tr>\n",
       "    <tr>\n",
       "      <th>622337</th>\n",
       "      <td>Choctaw County, MS</td>\n",
       "      <td>2019-12-30</td>\n",
       "      <td>2020-03-22</td>\n",
       "      <td>NaN</td>\n",
       "      <td>2.0</td>\n",
       "      <td>3.0</td>\n",
       "      <td>46.0</td>\n",
       "      <td>115268.7</td>\n",
       "      <td>NaN</td>\n",
       "    </tr>\n",
       "    <tr>\n",
       "      <th>622338</th>\n",
       "      <td>Morehouse Parish, LA</td>\n",
       "      <td>2022-02-14</td>\n",
       "      <td>2022-05-08</td>\n",
       "      <td>NaN</td>\n",
       "      <td>30.0</td>\n",
       "      <td>33.0</td>\n",
       "      <td>59.7</td>\n",
       "      <td>139979.1</td>\n",
       "      <td>NaN</td>\n",
       "    </tr>\n",
       "  </tbody>\n",
       "</table>\n",
       "<p>622339 rows × 9 columns</p>\n",
       "</div>"
      ],
      "text/plain": [
       "                 region_name period_begin  period_end  total_homes_sold  \\\n",
       "0         Appling County, GA   2020-04-27  2020-07-19               NaN   \n",
       "1          Tooele County, UT   2018-08-27  2018-11-18             325.0   \n",
       "2         Johnson County, TX   2019-09-23  2019-12-15             577.0   \n",
       "3          Holmes County, OH   2017-10-09  2017-12-31              22.0   \n",
       "4         Madison County, FL   2017-01-09  2017-04-02              12.0   \n",
       "...                      ...          ...         ...               ...   \n",
       "622334    Washita County, OK   2019-11-25  2020-02-16               NaN   \n",
       "622335       Gray County, TX   2019-02-25  2019-05-19               NaN   \n",
       "622336     Custer County, OK   2020-02-24  2020-05-17               NaN   \n",
       "622337    Choctaw County, MS   2019-12-30  2020-03-22               NaN   \n",
       "622338  Morehouse Parish, LA   2022-02-14  2022-05-08               NaN   \n",
       "\n",
       "        inventory  active_listings  age_of_inventory  median_pric  \\\n",
       "0             1.0              1.0             222.7     136195.8   \n",
       "1             NaN              NaN               NaN          NaN   \n",
       "2           717.0            778.0              63.0     268737.6   \n",
       "3            52.0             54.0             109.4     115308.3   \n",
       "4            54.0             55.0             151.2     158062.5   \n",
       "...           ...              ...               ...          ...   \n",
       "622334        4.0              4.0             133.0      46650.0   \n",
       "622335        1.0              1.0             180.5      62500.0   \n",
       "622336       15.0             15.0              52.7     130120.8   \n",
       "622337        2.0              3.0              46.0     115268.7   \n",
       "622338       30.0             33.0              59.7     139979.1   \n",
       "\n",
       "        months_of_supply  \n",
       "0                    NaN  \n",
       "1                    NaN  \n",
       "2              17.095583  \n",
       "3              34.050000  \n",
       "4              38.300000  \n",
       "...                  ...  \n",
       "622334               NaN  \n",
       "622335               NaN  \n",
       "622336               NaN  \n",
       "622337               NaN  \n",
       "622338               NaN  \n",
       "\n",
       "[622339 rows x 9 columns]"
      ]
     },
     "execution_count": 19,
     "metadata": {},
     "output_type": "execute_result"
    }
   ],
   "source": [
    "df2"
   ]
  },
  {
   "cell_type": "code",
   "execution_count": 20,
   "id": "53c3a3ff",
   "metadata": {
    "execution": {
     "iopub.execute_input": "2025-02-21T00:07:29.943961Z",
     "iopub.status.busy": "2025-02-21T00:07:29.943228Z",
     "iopub.status.idle": "2025-02-21T00:07:29.998899Z",
     "shell.execute_reply": "2025-02-21T00:07:29.997712Z"
    },
    "papermill": {
     "duration": 0.075765,
     "end_time": "2025-02-21T00:07:30.000931",
     "exception": false,
     "start_time": "2025-02-21T00:07:29.925166",
     "status": "completed"
    },
    "tags": []
   },
   "outputs": [
    {
     "name": "stdout",
     "output_type": "stream",
     "text": [
      "465.1842194706598\n",
      "77.0\n",
      "415.4492841344461\n",
      "79.0\n",
      "231994.61368941132\n",
      "203858.3\n"
     ]
    }
   ],
   "source": [
    "# Mean and Median of 'total_homes_sold'\n",
    "mean_total_homes_sold = df2['total_homes_sold'].mean()\n",
    "median_total_homes_sold = df2['total_homes_sold'].median()\n",
    "\n",
    "# Mean and Median of 'inventory'\n",
    "mean_inventory = df2['inventory'].mean()\n",
    "median_inventory = df2['inventory'].median()\n",
    "\n",
    "# Mean and Median of 'median_active_list_price'\n",
    "mean_median_active_list_price = df2['median_pric'].mean()\n",
    "median_median_active_list_price = df2['median_pric'].median()\n",
    "\n",
    "print(mean_total_homes_sold)\n",
    "print(median_total_homes_sold)\n",
    "print(mean_inventory)\n",
    "print(median_inventory)\n",
    "print(mean_median_active_list_price)\n",
    "print(median_median_active_list_price)"
   ]
  },
  {
   "cell_type": "code",
   "execution_count": 21,
   "id": "b021f3df",
   "metadata": {
    "execution": {
     "iopub.execute_input": "2025-02-21T00:07:30.036646Z",
     "iopub.status.busy": "2025-02-21T00:07:30.036251Z",
     "iopub.status.idle": "2025-02-21T00:07:30.047619Z",
     "shell.execute_reply": "2025-02-21T00:07:30.046250Z"
    },
    "papermill": {
     "duration": 0.03173,
     "end_time": "2025-02-21T00:07:30.049779",
     "exception": false,
     "start_time": "2025-02-21T00:07:30.018049",
     "status": "completed"
    },
    "tags": []
   },
   "outputs": [
    {
     "name": "stdout",
     "output_type": "stream",
     "text": [
      "365.0\n"
     ]
    }
   ],
   "source": [
    "range_age_of_inventory = df2['age_of_inventory'].max() - df2['age_of_inventory'].min()\n",
    "print(range_age_of_inventory)"
   ]
  },
  {
   "cell_type": "code",
   "execution_count": 22,
   "id": "8a4bd46e",
   "metadata": {
    "execution": {
     "iopub.execute_input": "2025-02-21T00:07:30.084898Z",
     "iopub.status.busy": "2025-02-21T00:07:30.084546Z",
     "iopub.status.idle": "2025-02-21T00:07:30.104802Z",
     "shell.execute_reply": "2025-02-21T00:07:30.103500Z"
    },
    "papermill": {
     "duration": 0.040261,
     "end_time": "2025-02-21T00:07:30.106894",
     "exception": false,
     "start_time": "2025-02-21T00:07:30.066633",
     "status": "completed"
    },
    "tags": []
   },
   "outputs": [
    {
     "name": "stdout",
     "output_type": "stream",
     "text": [
      "0.3140695079865966\n"
     ]
    }
   ],
   "source": [
    "correlation = df2['total_homes_sold'].corr(df2['median_pric'])\n",
    "print(correlation)"
   ]
  },
  {
   "cell_type": "code",
   "execution_count": 23,
   "id": "5e2bce06",
   "metadata": {
    "execution": {
     "iopub.execute_input": "2025-02-21T00:07:30.142866Z",
     "iopub.status.busy": "2025-02-21T00:07:30.142100Z",
     "iopub.status.idle": "2025-02-21T00:07:30.184300Z",
     "shell.execute_reply": "2025-02-21T00:07:30.183268Z"
    },
    "papermill": {
     "duration": 0.062425,
     "end_time": "2025-02-21T00:07:30.186351",
     "exception": false,
     "start_time": "2025-02-21T00:07:30.123926",
     "status": "completed"
    },
    "tags": []
   },
   "outputs": [
    {
     "data": {
      "text/html": [
       "<div>\n",
       "<style scoped>\n",
       "    .dataframe tbody tr th:only-of-type {\n",
       "        vertical-align: middle;\n",
       "    }\n",
       "\n",
       "    .dataframe tbody tr th {\n",
       "        vertical-align: top;\n",
       "    }\n",
       "\n",
       "    .dataframe thead th {\n",
       "        text-align: right;\n",
       "    }\n",
       "</style>\n",
       "<table border=\"1\" class=\"dataframe\">\n",
       "  <thead>\n",
       "    <tr style=\"text-align: right;\">\n",
       "      <th></th>\n",
       "      <th>region_name</th>\n",
       "      <th>period_begin</th>\n",
       "      <th>period_end</th>\n",
       "      <th>total_homes_sold</th>\n",
       "      <th>inventory</th>\n",
       "      <th>active_listings</th>\n",
       "      <th>age_of_inventory</th>\n",
       "      <th>median_pric</th>\n",
       "      <th>months_of_supply</th>\n",
       "    </tr>\n",
       "  </thead>\n",
       "  <tbody>\n",
       "    <tr>\n",
       "      <th>1</th>\n",
       "      <td>Tooele County, UT</td>\n",
       "      <td>2018-08-27</td>\n",
       "      <td>2018-11-18</td>\n",
       "      <td>325.0</td>\n",
       "      <td>NaN</td>\n",
       "      <td>NaN</td>\n",
       "      <td>NaN</td>\n",
       "      <td>NaN</td>\n",
       "      <td>NaN</td>\n",
       "    </tr>\n",
       "    <tr>\n",
       "      <th>2</th>\n",
       "      <td>Johnson County, TX</td>\n",
       "      <td>2019-09-23</td>\n",
       "      <td>2019-12-15</td>\n",
       "      <td>577.0</td>\n",
       "      <td>717.0</td>\n",
       "      <td>778.0</td>\n",
       "      <td>63.0</td>\n",
       "      <td>268737.6</td>\n",
       "      <td>17.095583</td>\n",
       "    </tr>\n",
       "    <tr>\n",
       "      <th>6</th>\n",
       "      <td>Sacramento County, CA</td>\n",
       "      <td>2020-06-22</td>\n",
       "      <td>2020-09-13</td>\n",
       "      <td>5107.0</td>\n",
       "      <td>1729.0</td>\n",
       "      <td>2206.0</td>\n",
       "      <td>27.5</td>\n",
       "      <td>445540.9</td>\n",
       "      <td>5.235794</td>\n",
       "    </tr>\n",
       "    <tr>\n",
       "      <th>7</th>\n",
       "      <td>Clark County, KY</td>\n",
       "      <td>2019-07-01</td>\n",
       "      <td>2019-09-22</td>\n",
       "      <td>145.0</td>\n",
       "      <td>119.0</td>\n",
       "      <td>130.0</td>\n",
       "      <td>50.8</td>\n",
       "      <td>152850.0</td>\n",
       "      <td>11.700912</td>\n",
       "    </tr>\n",
       "    <tr>\n",
       "      <th>12</th>\n",
       "      <td>Miami County, KS</td>\n",
       "      <td>2017-09-18</td>\n",
       "      <td>2017-12-10</td>\n",
       "      <td>130.0</td>\n",
       "      <td>131.0</td>\n",
       "      <td>142.0</td>\n",
       "      <td>60.7</td>\n",
       "      <td>235316.6</td>\n",
       "      <td>16.476705</td>\n",
       "    </tr>\n",
       "    <tr>\n",
       "      <th>...</th>\n",
       "      <td>...</td>\n",
       "      <td>...</td>\n",
       "      <td>...</td>\n",
       "      <td>...</td>\n",
       "      <td>...</td>\n",
       "      <td>...</td>\n",
       "      <td>...</td>\n",
       "      <td>...</td>\n",
       "      <td>...</td>\n",
       "    </tr>\n",
       "    <tr>\n",
       "      <th>622306</th>\n",
       "      <td>Tuscaloosa County, AL</td>\n",
       "      <td>2021-02-15</td>\n",
       "      <td>2021-05-09</td>\n",
       "      <td>800.0</td>\n",
       "      <td>660.0</td>\n",
       "      <td>719.0</td>\n",
       "      <td>43.4</td>\n",
       "      <td>241095.8</td>\n",
       "      <td>11.526189</td>\n",
       "    </tr>\n",
       "    <tr>\n",
       "      <th>622309</th>\n",
       "      <td>Canadian County, OK</td>\n",
       "      <td>2020-05-18</td>\n",
       "      <td>2020-08-09</td>\n",
       "      <td>1133.0</td>\n",
       "      <td>607.0</td>\n",
       "      <td>708.0</td>\n",
       "      <td>47.7</td>\n",
       "      <td>239021.2</td>\n",
       "      <td>7.646324</td>\n",
       "    </tr>\n",
       "    <tr>\n",
       "      <th>622310</th>\n",
       "      <td>Green County, WI</td>\n",
       "      <td>2018-05-21</td>\n",
       "      <td>2018-08-12</td>\n",
       "      <td>146.0</td>\n",
       "      <td>123.0</td>\n",
       "      <td>135.0</td>\n",
       "      <td>52.5</td>\n",
       "      <td>246479.1</td>\n",
       "      <td>12.043203</td>\n",
       "    </tr>\n",
       "    <tr>\n",
       "      <th>622312</th>\n",
       "      <td>Blount County, TN</td>\n",
       "      <td>2018-05-28</td>\n",
       "      <td>2018-08-19</td>\n",
       "      <td>596.0</td>\n",
       "      <td>645.0</td>\n",
       "      <td>688.0</td>\n",
       "      <td>61.4</td>\n",
       "      <td>234049.9</td>\n",
       "      <td>14.475231</td>\n",
       "    </tr>\n",
       "    <tr>\n",
       "      <th>622313</th>\n",
       "      <td>Boulder County, CO</td>\n",
       "      <td>2018-01-15</td>\n",
       "      <td>2018-04-08</td>\n",
       "      <td>973.0</td>\n",
       "      <td>746.0</td>\n",
       "      <td>838.0</td>\n",
       "      <td>44.9</td>\n",
       "      <td>529195.6</td>\n",
       "      <td>10.992834</td>\n",
       "    </tr>\n",
       "  </tbody>\n",
       "</table>\n",
       "<p>253663 rows × 9 columns</p>\n",
       "</div>"
      ],
      "text/plain": [
       "                  region_name period_begin  period_end  total_homes_sold  \\\n",
       "1           Tooele County, UT   2018-08-27  2018-11-18             325.0   \n",
       "2          Johnson County, TX   2019-09-23  2019-12-15             577.0   \n",
       "6       Sacramento County, CA   2020-06-22  2020-09-13            5107.0   \n",
       "7            Clark County, KY   2019-07-01  2019-09-22             145.0   \n",
       "12           Miami County, KS   2017-09-18  2017-12-10             130.0   \n",
       "...                       ...          ...         ...               ...   \n",
       "622306  Tuscaloosa County, AL   2021-02-15  2021-05-09             800.0   \n",
       "622309    Canadian County, OK   2020-05-18  2020-08-09            1133.0   \n",
       "622310       Green County, WI   2018-05-21  2018-08-12             146.0   \n",
       "622312      Blount County, TN   2018-05-28  2018-08-19             596.0   \n",
       "622313     Boulder County, CO   2018-01-15  2018-04-08             973.0   \n",
       "\n",
       "        inventory  active_listings  age_of_inventory  median_pric  \\\n",
       "1             NaN              NaN               NaN          NaN   \n",
       "2           717.0            778.0              63.0     268737.6   \n",
       "6          1729.0           2206.0              27.5     445540.9   \n",
       "7           119.0            130.0              50.8     152850.0   \n",
       "12          131.0            142.0              60.7     235316.6   \n",
       "...           ...              ...               ...          ...   \n",
       "622306      660.0            719.0              43.4     241095.8   \n",
       "622309      607.0            708.0              47.7     239021.2   \n",
       "622310      123.0            135.0              52.5     246479.1   \n",
       "622312      645.0            688.0              61.4     234049.9   \n",
       "622313      746.0            838.0              44.9     529195.6   \n",
       "\n",
       "        months_of_supply  \n",
       "1                    NaN  \n",
       "2              17.095583  \n",
       "6               5.235794  \n",
       "7              11.700912  \n",
       "12             16.476705  \n",
       "...                  ...  \n",
       "622306         11.526189  \n",
       "622309          7.646324  \n",
       "622310         12.043203  \n",
       "622312         14.475231  \n",
       "622313         10.992834  \n",
       "\n",
       "[253663 rows x 9 columns]"
      ]
     },
     "execution_count": 23,
     "metadata": {},
     "output_type": "execute_result"
    }
   ],
   "source": [
    "df_filtered = df2[df2['total_homes_sold'] > 100]\n",
    "df_filtered"
   ]
  },
  {
   "cell_type": "code",
   "execution_count": 24,
   "id": "a7136090",
   "metadata": {
    "execution": {
     "iopub.execute_input": "2025-02-21T00:07:30.222667Z",
     "iopub.status.busy": "2025-02-21T00:07:30.222279Z",
     "iopub.status.idle": "2025-02-21T00:07:30.277596Z",
     "shell.execute_reply": "2025-02-21T00:07:30.276255Z"
    },
    "papermill": {
     "duration": 0.076024,
     "end_time": "2025-02-21T00:07:30.279786",
     "exception": false,
     "start_time": "2025-02-21T00:07:30.203762",
     "status": "completed"
    },
    "tags": []
   },
   "outputs": [
    {
     "name": "stdout",
     "output_type": "stream",
     "text": [
      "465.1842194706598\n",
      "77.0\n",
      "415.4492841344461\n",
      "79.0\n",
      "231994.61368941132\n",
      "203858.3\n"
     ]
    }
   ],
   "source": [
    "# Mean and Median of 'total_homes_sold'\n",
    "mean_total_homes_sold = df2['total_homes_sold'].mean()\n",
    "median_total_homes_sold = df2['total_homes_sold'].median()\n",
    "\n",
    "# Mean and Median of 'inventory'\n",
    "mean_inventory = df2['inventory'].mean()\n",
    "median_inventory = df2['inventory'].median()\n",
    "\n",
    "# Mean and Median of 'median_active_list_price'\n",
    "mean_median_active_list_price = df2['median_pric'].mean()\n",
    "median_median_active_list_price = df2['median_pric'].median()\n",
    "\n",
    "print(mean_total_homes_sold)\n",
    "print(median_total_homes_sold)\n",
    "print(mean_inventory)\n",
    "print(median_inventory)\n",
    "print(mean_median_active_list_price)\n",
    "print(median_median_active_list_price)"
   ]
  },
  {
   "cell_type": "code",
   "execution_count": 25,
   "id": "83a04c09",
   "metadata": {
    "execution": {
     "iopub.execute_input": "2025-02-21T00:07:30.316006Z",
     "iopub.status.busy": "2025-02-21T00:07:30.315644Z",
     "iopub.status.idle": "2025-02-21T00:07:30.323600Z",
     "shell.execute_reply": "2025-02-21T00:07:30.322625Z"
    },
    "papermill": {
     "duration": 0.02851,
     "end_time": "2025-02-21T00:07:30.325534",
     "exception": false,
     "start_time": "2025-02-21T00:07:30.297024",
     "status": "completed"
    },
    "tags": []
   },
   "outputs": [
    {
     "name": "stdout",
     "output_type": "stream",
     "text": [
      "280560764.0\n"
     ]
    }
   ],
   "source": [
    "total_active_listings = df2['active_listings'].sum()\n",
    "print(total_active_listings)\n"
   ]
  },
  {
   "cell_type": "code",
   "execution_count": 26,
   "id": "bd433659",
   "metadata": {
    "execution": {
     "iopub.execute_input": "2025-02-21T00:07:30.363381Z",
     "iopub.status.busy": "2025-02-21T00:07:30.362469Z",
     "iopub.status.idle": "2025-02-21T00:07:30.375178Z",
     "shell.execute_reply": "2025-02-21T00:07:30.373847Z"
    },
    "papermill": {
     "duration": 0.034461,
     "end_time": "2025-02-21T00:07:30.377379",
     "exception": false,
     "start_time": "2025-02-21T00:07:30.342918",
     "status": "completed"
    },
    "tags": []
   },
   "outputs": [
    {
     "name": "stdout",
     "output_type": "stream",
     "text": [
      "122107.72202105004\n"
     ]
    }
   ],
   "source": [
    "std_median_active_list_price = df2['median_pric'].std()\n",
    "print(std_median_active_list_price)\n"
   ]
  },
  {
   "cell_type": "code",
   "execution_count": 27,
   "id": "22a3c7db",
   "metadata": {
    "execution": {
     "iopub.execute_input": "2025-02-21T00:07:30.414258Z",
     "iopub.status.busy": "2025-02-21T00:07:30.413598Z",
     "iopub.status.idle": "2025-02-21T00:07:30.431350Z",
     "shell.execute_reply": "2025-02-21T00:07:30.429979Z"
    },
    "papermill": {
     "duration": 0.038813,
     "end_time": "2025-02-21T00:07:30.433703",
     "exception": false,
     "start_time": "2025-02-21T00:07:30.394890",
     "status": "completed"
    },
    "tags": []
   },
   "outputs": [
    {
     "name": "stdout",
     "output_type": "stream",
     "text": [
      "23.40833333\n"
     ]
    }
   ],
   "source": [
    "third_quartile = df2['months_of_supply'].quantile(0.75)\n",
    "print(third_quartile)"
   ]
  },
  {
   "cell_type": "markdown",
   "id": "e21de5a3",
   "metadata": {
    "papermill": {
     "duration": 0.017076,
     "end_time": "2025-02-21T00:07:30.468162",
     "exception": false,
     "start_time": "2025-02-21T00:07:30.451086",
     "status": "completed"
    },
    "tags": []
   },
   "source": [
    "#### Section2"
   ]
  },
  {
   "cell_type": "code",
   "execution_count": 28,
   "id": "6eb3ce1f",
   "metadata": {
    "execution": {
     "iopub.execute_input": "2025-02-21T00:07:30.505514Z",
     "iopub.status.busy": "2025-02-21T00:07:30.504623Z",
     "iopub.status.idle": "2025-02-21T00:07:30.586583Z",
     "shell.execute_reply": "2025-02-21T00:07:30.585504Z"
    },
    "papermill": {
     "duration": 0.103025,
     "end_time": "2025-02-21T00:07:30.588811",
     "exception": false,
     "start_time": "2025-02-21T00:07:30.485786",
     "status": "completed"
    },
    "tags": []
   },
   "outputs": [
    {
     "data": {
      "text/plain": [
       "region_name\n",
       "Abbeville County, SC    202810.692446\n",
       "Acadia Parish, LA       142610.532734\n",
       "Ada County, ID          415358.583453\n",
       "Adair County, IA        116280.052878\n",
       "Adair County, MO        134243.535612\n",
       "                            ...      \n",
       "Young County, TX        165593.395324\n",
       "Yuba County, CA         352321.691007\n",
       "Yuma County, CO         217578.338489\n",
       "Zapata County, TX       115331.121192\n",
       "Zavala County, TX       179138.349281\n",
       "Name: median_pric, Length: 2399, dtype: float64"
      ]
     },
     "execution_count": 28,
     "metadata": {},
     "output_type": "execute_result"
    }
   ],
   "source": [
    "avg = df2.groupby('region_name')['median_pric'].mean()\n",
    "avg"
   ]
  },
  {
   "cell_type": "code",
   "execution_count": 29,
   "id": "62efcdd6",
   "metadata": {
    "execution": {
     "iopub.execute_input": "2025-02-21T00:07:30.625701Z",
     "iopub.status.busy": "2025-02-21T00:07:30.624985Z",
     "iopub.status.idle": "2025-02-21T00:07:30.635337Z",
     "shell.execute_reply": "2025-02-21T00:07:30.634298Z"
    },
    "papermill": {
     "duration": 0.030989,
     "end_time": "2025-02-21T00:07:30.637444",
     "exception": false,
     "start_time": "2025-02-21T00:07:30.606455",
     "status": "completed"
    },
    "tags": []
   },
   "outputs": [
    {
     "data": {
      "text/plain": [
       "264149742.0"
      ]
     },
     "execution_count": 29,
     "metadata": {},
     "output_type": "execute_result"
    }
   ],
   "source": [
    "tot = df2['total_homes_sold'].sum()\n",
    "tot"
   ]
  },
  {
   "cell_type": "code",
   "execution_count": 30,
   "id": "8d27b94e",
   "metadata": {
    "execution": {
     "iopub.execute_input": "2025-02-21T00:07:30.674510Z",
     "iopub.status.busy": "2025-02-21T00:07:30.674127Z",
     "iopub.status.idle": "2025-02-21T00:07:30.744200Z",
     "shell.execute_reply": "2025-02-21T00:07:30.742956Z"
    },
    "papermill": {
     "duration": 0.091467,
     "end_time": "2025-02-21T00:07:30.746523",
     "exception": false,
     "start_time": "2025-02-21T00:07:30.655056",
     "status": "completed"
    },
    "tags": []
   },
   "outputs": [
    {
     "name": "stdout",
     "output_type": "stream",
     "text": [
      "Maricopa County, AZ\n",
      "20020.10071942446\n"
     ]
    }
   ],
   "source": [
    "avg2 = df2.groupby('region_name')['total_homes_sold'].mean()\n",
    "\n",
    "# Find the region with the highest average\n",
    "region_max = avg2.idxmax()\n",
    "print(region_max)\n",
    "\n",
    "print(avg2.max())"
   ]
  },
  {
   "cell_type": "markdown",
   "id": "32898841",
   "metadata": {
    "papermill": {
     "duration": 0.01762,
     "end_time": "2025-02-21T00:07:30.782033",
     "exception": false,
     "start_time": "2025-02-21T00:07:30.764413",
     "status": "completed"
    },
    "tags": []
   },
   "source": [
    "#### Section3"
   ]
  },
  {
   "cell_type": "markdown",
   "id": "3929c0b6",
   "metadata": {
    "papermill": {
     "duration": 0.017506,
     "end_time": "2025-02-21T00:07:30.817235",
     "exception": false,
     "start_time": "2025-02-21T00:07:30.799729",
     "status": "completed"
    },
    "tags": []
   },
   "source": []
  },
  {
   "cell_type": "code",
   "execution_count": 31,
   "id": "763a5bd8",
   "metadata": {
    "execution": {
     "iopub.execute_input": "2025-02-21T00:07:30.854704Z",
     "iopub.status.busy": "2025-02-21T00:07:30.854347Z",
     "iopub.status.idle": "2025-02-21T00:07:30.877529Z",
     "shell.execute_reply": "2025-02-21T00:07:30.876319Z"
    },
    "papermill": {
     "duration": 0.044335,
     "end_time": "2025-02-21T00:07:30.879744",
     "exception": false,
     "start_time": "2025-02-21T00:07:30.835409",
     "status": "completed"
    },
    "tags": []
   },
   "outputs": [
    {
     "data": {
      "text/plain": [
       "0.3140695079865966"
      ]
     },
     "execution_count": 31,
     "metadata": {},
     "output_type": "execute_result"
    }
   ],
   "source": [
    "corr = df2['total_homes_sold'].corr(df2['median_pric'])\n",
    "corr"
   ]
  },
  {
   "cell_type": "code",
   "execution_count": 32,
   "id": "922749b9",
   "metadata": {
    "execution": {
     "iopub.execute_input": "2025-02-21T00:07:30.917740Z",
     "iopub.status.busy": "2025-02-21T00:07:30.916835Z",
     "iopub.status.idle": "2025-02-21T00:07:30.972685Z",
     "shell.execute_reply": "2025-02-21T00:07:30.971605Z"
    },
    "papermill": {
     "duration": 0.076923,
     "end_time": "2025-02-21T00:07:30.974787",
     "exception": false,
     "start_time": "2025-02-21T00:07:30.897864",
     "status": "completed"
    },
    "tags": []
   },
   "outputs": [
    {
     "data": {
      "text/plain": [
       "period_begin    2019-04-08\n",
       "period_end      2019-06-30\n",
       "Name: 14748, dtype: object"
      ]
     },
     "execution_count": 32,
     "metadata": {},
     "output_type": "execute_result"
    }
   ],
   "source": [
    "max_tot = df2[df2['region_name'] == 'Maricopa County, AZ']\n",
    "\n",
    "max_sales_period = max_tot.loc[max_tot['total_homes_sold'].idxmax(), ['period_begin', 'period_end']]\n",
    "max_sales_period"
   ]
  },
  {
   "cell_type": "markdown",
   "id": "51d7afc5",
   "metadata": {
    "papermill": {
     "duration": 0.017624,
     "end_time": "2025-02-21T00:07:31.010347",
     "exception": false,
     "start_time": "2025-02-21T00:07:30.992723",
     "status": "completed"
    },
    "tags": []
   },
   "source": [
    "#### Section5"
   ]
  },
  {
   "cell_type": "code",
   "execution_count": 33,
   "id": "c26f79f0",
   "metadata": {
    "execution": {
     "iopub.execute_input": "2025-02-21T00:07:31.049419Z",
     "iopub.status.busy": "2025-02-21T00:07:31.048678Z",
     "iopub.status.idle": "2025-02-21T00:07:31.203779Z",
     "shell.execute_reply": "2025-02-21T00:07:31.202673Z"
    },
    "papermill": {
     "duration": 0.177591,
     "end_time": "2025-02-21T00:07:31.205830",
     "exception": false,
     "start_time": "2025-02-21T00:07:31.028239",
     "status": "completed"
    },
    "tags": []
   },
   "outputs": [
    {
     "data": {
      "text/html": [
       "<div>\n",
       "<style scoped>\n",
       "    .dataframe tbody tr th:only-of-type {\n",
       "        vertical-align: middle;\n",
       "    }\n",
       "\n",
       "    .dataframe tbody tr th {\n",
       "        vertical-align: top;\n",
       "    }\n",
       "\n",
       "    .dataframe thead th {\n",
       "        text-align: right;\n",
       "    }\n",
       "</style>\n",
       "<table border=\"1\" class=\"dataframe\">\n",
       "  <thead>\n",
       "    <tr style=\"text-align: right;\">\n",
       "      <th></th>\n",
       "      <th>region_name</th>\n",
       "      <th>period_begin</th>\n",
       "      <th>period_end</th>\n",
       "      <th>total_homes_sold</th>\n",
       "      <th>inventory</th>\n",
       "      <th>active_listings</th>\n",
       "      <th>age_of_inventory</th>\n",
       "      <th>median_pric</th>\n",
       "      <th>months_of_supply</th>\n",
       "    </tr>\n",
       "  </thead>\n",
       "  <tbody>\n",
       "    <tr>\n",
       "      <th>2</th>\n",
       "      <td>Johnson County, TX</td>\n",
       "      <td>2019-09-23</td>\n",
       "      <td>2019-12-15</td>\n",
       "      <td>577.0</td>\n",
       "      <td>717.0</td>\n",
       "      <td>778.0</td>\n",
       "      <td>63.0</td>\n",
       "      <td>268737.6</td>\n",
       "      <td>17.095583</td>\n",
       "    </tr>\n",
       "    <tr>\n",
       "      <th>3</th>\n",
       "      <td>Holmes County, OH</td>\n",
       "      <td>2017-10-09</td>\n",
       "      <td>2017-12-31</td>\n",
       "      <td>22.0</td>\n",
       "      <td>52.0</td>\n",
       "      <td>54.0</td>\n",
       "      <td>109.4</td>\n",
       "      <td>115308.3</td>\n",
       "      <td>34.050000</td>\n",
       "    </tr>\n",
       "    <tr>\n",
       "      <th>4</th>\n",
       "      <td>Madison County, FL</td>\n",
       "      <td>2017-01-09</td>\n",
       "      <td>2017-04-02</td>\n",
       "      <td>12.0</td>\n",
       "      <td>54.0</td>\n",
       "      <td>55.0</td>\n",
       "      <td>151.2</td>\n",
       "      <td>158062.5</td>\n",
       "      <td>38.300000</td>\n",
       "    </tr>\n",
       "    <tr>\n",
       "      <th>5</th>\n",
       "      <td>Barry County, MO</td>\n",
       "      <td>2020-11-23</td>\n",
       "      <td>2021-02-14</td>\n",
       "      <td>79.0</td>\n",
       "      <td>70.0</td>\n",
       "      <td>77.0</td>\n",
       "      <td>82.8</td>\n",
       "      <td>196509.1</td>\n",
       "      <td>13.157870</td>\n",
       "    </tr>\n",
       "    <tr>\n",
       "      <th>6</th>\n",
       "      <td>Sacramento County, CA</td>\n",
       "      <td>2020-06-22</td>\n",
       "      <td>2020-09-13</td>\n",
       "      <td>5107.0</td>\n",
       "      <td>1729.0</td>\n",
       "      <td>2206.0</td>\n",
       "      <td>27.5</td>\n",
       "      <td>445540.9</td>\n",
       "      <td>5.235794</td>\n",
       "    </tr>\n",
       "    <tr>\n",
       "      <th>...</th>\n",
       "      <td>...</td>\n",
       "      <td>...</td>\n",
       "      <td>...</td>\n",
       "      <td>...</td>\n",
       "      <td>...</td>\n",
       "      <td>...</td>\n",
       "      <td>...</td>\n",
       "      <td>...</td>\n",
       "      <td>...</td>\n",
       "    </tr>\n",
       "    <tr>\n",
       "      <th>622313</th>\n",
       "      <td>Boulder County, CO</td>\n",
       "      <td>2018-01-15</td>\n",
       "      <td>2018-04-08</td>\n",
       "      <td>973.0</td>\n",
       "      <td>746.0</td>\n",
       "      <td>838.0</td>\n",
       "      <td>44.9</td>\n",
       "      <td>529195.6</td>\n",
       "      <td>10.992834</td>\n",
       "    </tr>\n",
       "    <tr>\n",
       "      <th>622315</th>\n",
       "      <td>Randolph County, MO</td>\n",
       "      <td>2019-03-11</td>\n",
       "      <td>2019-06-02</td>\n",
       "      <td>21.0</td>\n",
       "      <td>12.0</td>\n",
       "      <td>13.0</td>\n",
       "      <td>23.5</td>\n",
       "      <td>122793.7</td>\n",
       "      <td>9.219697</td>\n",
       "    </tr>\n",
       "    <tr>\n",
       "      <th>622324</th>\n",
       "      <td>Sullivan County, IN</td>\n",
       "      <td>2018-03-05</td>\n",
       "      <td>2018-05-27</td>\n",
       "      <td>1.0</td>\n",
       "      <td>10.0</td>\n",
       "      <td>10.0</td>\n",
       "      <td>87.1</td>\n",
       "      <td>61741.6</td>\n",
       "      <td>10.000000</td>\n",
       "    </tr>\n",
       "    <tr>\n",
       "      <th>622329</th>\n",
       "      <td>Clatsop County, OR</td>\n",
       "      <td>2019-06-03</td>\n",
       "      <td>2019-08-25</td>\n",
       "      <td>1.0</td>\n",
       "      <td>4.0</td>\n",
       "      <td>4.0</td>\n",
       "      <td>53.7</td>\n",
       "      <td>529195.6</td>\n",
       "      <td>4.000000</td>\n",
       "    </tr>\n",
       "    <tr>\n",
       "      <th>622332</th>\n",
       "      <td>Coke County, TX</td>\n",
       "      <td>2020-01-20</td>\n",
       "      <td>2020-04-12</td>\n",
       "      <td>10.0</td>\n",
       "      <td>4.0</td>\n",
       "      <td>4.0</td>\n",
       "      <td>25.8</td>\n",
       "      <td>86304.1</td>\n",
       "      <td>4.208333</td>\n",
       "    </tr>\n",
       "  </tbody>\n",
       "</table>\n",
       "<p>560915 rows × 9 columns</p>\n",
       "</div>"
      ],
      "text/plain": [
       "                  region_name period_begin  period_end  total_homes_sold  \\\n",
       "2          Johnson County, TX   2019-09-23  2019-12-15             577.0   \n",
       "3           Holmes County, OH   2017-10-09  2017-12-31              22.0   \n",
       "4          Madison County, FL   2017-01-09  2017-04-02              12.0   \n",
       "5            Barry County, MO   2020-11-23  2021-02-14              79.0   \n",
       "6       Sacramento County, CA   2020-06-22  2020-09-13            5107.0   \n",
       "...                       ...          ...         ...               ...   \n",
       "622313     Boulder County, CO   2018-01-15  2018-04-08             973.0   \n",
       "622315    Randolph County, MO   2019-03-11  2019-06-02              21.0   \n",
       "622324    Sullivan County, IN   2018-03-05  2018-05-27               1.0   \n",
       "622329     Clatsop County, OR   2019-06-03  2019-08-25               1.0   \n",
       "622332        Coke County, TX   2020-01-20  2020-04-12              10.0   \n",
       "\n",
       "        inventory  active_listings  age_of_inventory  median_pric  \\\n",
       "2           717.0            778.0              63.0     268737.6   \n",
       "3            52.0             54.0             109.4     115308.3   \n",
       "4            54.0             55.0             151.2     158062.5   \n",
       "5            70.0             77.0              82.8     196509.1   \n",
       "6          1729.0           2206.0              27.5     445540.9   \n",
       "...           ...              ...               ...          ...   \n",
       "622313      746.0            838.0              44.9     529195.6   \n",
       "622315       12.0             13.0              23.5     122793.7   \n",
       "622324       10.0             10.0              87.1      61741.6   \n",
       "622329        4.0              4.0              53.7     529195.6   \n",
       "622332        4.0              4.0              25.8      86304.1   \n",
       "\n",
       "        months_of_supply  \n",
       "2              17.095583  \n",
       "3              34.050000  \n",
       "4              38.300000  \n",
       "5              13.157870  \n",
       "6               5.235794  \n",
       "...                  ...  \n",
       "622313         10.992834  \n",
       "622315          9.219697  \n",
       "622324         10.000000  \n",
       "622329          4.000000  \n",
       "622332          4.208333  \n",
       "\n",
       "[560915 rows x 9 columns]"
      ]
     },
     "execution_count": 33,
     "metadata": {},
     "output_type": "execute_result"
    }
   ],
   "source": [
    "# dropnull\n",
    "df2 = df2.dropna()\n",
    "df2"
   ]
  },
  {
   "cell_type": "code",
   "execution_count": 34,
   "id": "c0c077da",
   "metadata": {
    "execution": {
     "iopub.execute_input": "2025-02-21T00:07:31.244111Z",
     "iopub.status.busy": "2025-02-21T00:07:31.243337Z",
     "iopub.status.idle": "2025-02-21T00:07:31.576857Z",
     "shell.execute_reply": "2025-02-21T00:07:31.574837Z"
    },
    "papermill": {
     "duration": 0.355247,
     "end_time": "2025-02-21T00:07:31.579174",
     "exception": false,
     "start_time": "2025-02-21T00:07:31.223927",
     "status": "completed"
    },
    "tags": []
   },
   "outputs": [
    {
     "data": {
      "image/png": "[encoded data removed]",
      "text/plain": [
       "<Figure size 1000x600 with 1 Axes>"
      ]
     },
     "metadata": {},
     "output_type": "display_data"
    }
   ],
   "source": [
    "import matplotlib.pyplot as plt\n",
    "\n",
    "# Histogram for 'total_homes_sold'\n",
    "plt.figure(figsize=(10, 6))\n",
    "plt.hist(df2['total_homes_sold'].dropna(), bins=30, edgecolor='black')\n",
    "plt.title('Histogram of Total Homes Sold')\n",
    "plt.xlabel('Total Homes Sold')\n",
    "plt.ylabel('Frequency')\n",
    "plt.grid(True)\n",
    "plt.show()"
   ]
  },
  {
   "cell_type": "code",
   "execution_count": 35,
   "id": "e92f2ff7",
   "metadata": {
    "execution": {
     "iopub.execute_input": "2025-02-21T00:07:31.618684Z",
     "iopub.status.busy": "2025-02-21T00:07:31.617877Z",
     "iopub.status.idle": "2025-02-21T00:08:02.637292Z",
     "shell.execute_reply": "2025-02-21T00:08:02.636296Z"
    },
    "papermill": {
     "duration": 31.068429,
     "end_time": "2025-02-21T00:08:02.666585",
     "exception": false,
     "start_time": "2025-02-21T00:07:31.598156",
     "status": "completed"
    },
    "tags": []
   },
   "outputs": [
    {
     "data": {
      "text/plain": [
       "<Figure size 640x480 with 0 Axes>"
      ]
     },
     "metadata": {},
     "output_type": "display_data"
    },
    {
     "data": {
      "image/png": "[encoded data removed]",
      "text/plain": [
       "<Figure size 640x480 with 1 Axes>"
      ]
     },
     "metadata": {},
     "output_type": "display_data"
    }
   ],
   "source": [
    "plt.figure()\n",
    "df2.boxplot(column='median_pric', by='region_name', vert=False)\n",
    "plt.title('Box Plot of Median Active List Price by Region')\n",
    "plt.xlabel('Median Active List Price')\n",
    "plt.ylabel('Region')\n",
    "plt.show()"
   ]
  },
  {
   "cell_type": "code",
   "execution_count": 36,
   "id": "d04ecceb",
   "metadata": {
    "execution": {
     "iopub.execute_input": "2025-02-21T00:08:02.715287Z",
     "iopub.status.busy": "2025-02-21T00:08:02.714902Z",
     "iopub.status.idle": "2025-02-21T00:08:04.495243Z",
     "shell.execute_reply": "2025-02-21T00:08:04.494206Z"
    },
    "papermill": {
     "duration": 1.80849,
     "end_time": "2025-02-21T00:08:04.498398",
     "exception": false,
     "start_time": "2025-02-21T00:08:02.689908",
     "status": "completed"
    },
    "tags": []
   },
   "outputs": [
    {
     "data": {
      "image/png": "[encoded data removed]",
      "text/plain": [
       "<Figure size 1000x600 with 1 Axes>"
      ]
     },
     "metadata": {},
     "output_type": "display_data"
    }
   ],
   "source": [
    "plt.figure(figsize=(10, 6))\n",
    "plt.scatter(df2['total_homes_sold'], df2['median_pric'], alpha=0.5)\n",
    "plt.title('Scatter Plot of Total Homes Sold vs. Median Active List Price')\n",
    "plt.xlabel('Total Homes Sold')\n",
    "plt.ylabel('Median Active List Price')\n",
    "plt.grid(True)\n",
    "plt.show()"
   ]
  },
  {
   "cell_type": "code",
   "execution_count": 37,
   "id": "ebe28a7e",
   "metadata": {
    "execution": {
     "iopub.execute_input": "2025-02-21T00:08:04.555138Z",
     "iopub.status.busy": "2025-02-21T00:08:04.554773Z",
     "iopub.status.idle": "2025-02-21T00:08:04.877188Z",
     "shell.execute_reply": "2025-02-21T00:08:04.876105Z"
    },
    "papermill": {
     "duration": 0.354966,
     "end_time": "2025-02-21T00:08:04.879449",
     "exception": false,
     "start_time": "2025-02-21T00:08:04.524483",
     "status": "completed"
    },
    "tags": []
   },
   "outputs": [
    {
     "data": {
      "image/png": "[encoded data removed]",
      "text/plain": [
       "<Figure size 1000x600 with 1 Axes>"
      ]
     },
     "metadata": {},
     "output_type": "display_data"
    }
   ],
   "source": [
    "top_5_regions = df2.groupby('region_name')['total_homes_sold'].sum().sort_values(ascending=False).head(5)\n",
    "\n",
    "plt.figure(figsize=(10, 6))\n",
    "top_5_regions.plot(kind='bar', color='skyblue')\n",
    "plt.title('Total Homes Sold for the Top 5 Regions')\n",
    "plt.xlabel('Region')\n",
    "plt.ylabel('Total Homes Sold')\n",
    "plt.xticks(rotation=45)\n",
    "plt.show()"
   ]
  },
  {
   "cell_type": "code",
   "execution_count": 38,
   "id": "d92fe78a",
   "metadata": {
    "execution": {
     "iopub.execute_input": "2025-02-21T00:08:04.933578Z",
     "iopub.status.busy": "2025-02-21T00:08:04.933169Z",
     "iopub.status.idle": "2025-02-21T00:08:05.282380Z",
     "shell.execute_reply": "2025-02-21T00:08:05.281364Z"
    },
    "papermill": {
     "duration": 0.378932,
     "end_time": "2025-02-21T00:08:05.284406",
     "exception": false,
     "start_time": "2025-02-21T00:08:04.905474",
     "status": "completed"
    },
    "tags": []
   },
   "outputs": [
    {
     "data": {
      "image/png": "[encoded data removed]",
      "text/plain": [
       "<Figure size 1000x600 with 1 Axes>"
      ]
     },
     "metadata": {},
     "output_type": "display_data"
    }
   ],
   "source": [
    "selected_region = df2[df2['region_name'] == 'Appling County, GA']\n",
    "\n",
    "plt.figure(figsize=(10, 6))\n",
    "plt.hist(selected_region['median_pric'].dropna(), bins=30, edgecolor='black')\n",
    "plt.title('Distribution of Median Active List Price in Appling County, GA')\n",
    "plt.xlabel('Median Active List Price')\n",
    "plt.ylabel('Frequency')\n",
    "plt.grid(True)\n",
    "plt.show()"
   ]
  },
  {
   "cell_type": "code",
   "execution_count": 39,
   "id": "2700fd17",
   "metadata": {
    "execution": {
     "iopub.execute_input": "2025-02-21T00:08:05.341018Z",
     "iopub.status.busy": "2025-02-21T00:08:05.340097Z",
     "iopub.status.idle": "2025-02-21T00:08:07.050530Z",
     "shell.execute_reply": "2025-02-21T00:08:07.049417Z"
    },
    "papermill": {
     "duration": 1.741167,
     "end_time": "2025-02-21T00:08:07.052769",
     "exception": false,
     "start_time": "2025-02-21T00:08:05.311602",
     "status": "completed"
    },
    "tags": []
   },
   "outputs": [
    {
     "data": {
      "image/png": "[encoded data removed]",
      "text/plain": [
       "<Figure size 1000x600 with 1 Axes>"
      ]
     },
     "metadata": {},
     "output_type": "display_data"
    }
   ],
   "source": [
    "plt.figure(figsize=(10, 6))\n",
    "plt.scatter(df2['inventory'], df2['months_of_supply'], alpha=0.5)\n",
    "plt.title('Scatter Plot of Inventory vs. Months of Supply')\n",
    "plt.xlabel('Inventory')\n",
    "plt.ylabel('Months of Supply')\n",
    "plt.grid(True)\n",
    "plt.show()"
   ]
  },
  {
   "cell_type": "code",
   "execution_count": null,
   "id": "f3c573c9",
   "metadata": {
    "papermill": {
     "duration": 0.027924,
     "end_time": "2025-02-21T00:08:07.108178",
     "exception": false,
     "start_time": "2025-02-21T00:08:07.080254",
     "status": "completed"
    },
    "tags": []
   },
   "outputs": [],
   "source": []
  },
  {
   "cell_type": "markdown",
   "id": "fac634bf",
   "metadata": {
    "papermill": {
     "duration": 0.027365,
     "end_time": "2025-02-21T00:08:07.163409",
     "exception": false,
     "start_time": "2025-02-21T00:08:07.136044",
     "status": "completed"
    },
    "tags": []
   },
   "source": [
    "# Dataset 2"
   ]
  },
  {
   "cell_type": "markdown",
   "id": "4e8a2d2b",
   "metadata": {
    "papermill": {
     "duration": 0.027364,
     "end_time": "2025-02-21T00:08:07.218460",
     "exception": false,
     "start_time": "2025-02-21T00:08:07.191096",
     "status": "completed"
    },
    "tags": []
   },
   "source": [
    "## 1) "
   ]
  },
  {
   "cell_type": "code",
   "execution_count": 40,
   "id": "c4246a88",
   "metadata": {
    "execution": {
     "iopub.execute_input": "2025-02-21T00:08:07.275691Z",
     "iopub.status.busy": "2025-02-21T00:08:07.275298Z",
     "iopub.status.idle": "2025-02-21T00:08:10.573929Z",
     "shell.execute_reply": "2025-02-21T00:08:10.572619Z"
    },
    "papermill": {
     "duration": 3.329832,
     "end_time": "2025-02-21T00:08:10.576071",
     "exception": false,
     "start_time": "2025-02-21T00:08:07.246239",
     "status": "completed"
    },
    "tags": []
   },
   "outputs": [
    {
     "data": {
      "text/html": [
       "<div>\n",
       "<style scoped>\n",
       "    .dataframe tbody tr th:only-of-type {\n",
       "        vertical-align: middle;\n",
       "    }\n",
       "\n",
       "    .dataframe tbody tr th {\n",
       "        vertical-align: top;\n",
       "    }\n",
       "\n",
       "    .dataframe thead th {\n",
       "        text-align: right;\n",
       "    }\n",
       "</style>\n",
       "<table border=\"1\" class=\"dataframe\">\n",
       "  <thead>\n",
       "    <tr style=\"text-align: right;\">\n",
       "      <th></th>\n",
       "      <th>household_key</th>\n",
       "      <th>BASKET_ID</th>\n",
       "      <th>DAY</th>\n",
       "      <th>PRODUCT_ID</th>\n",
       "      <th>QUANTITY</th>\n",
       "      <th>SALES_VALUE</th>\n",
       "      <th>STORE_ID</th>\n",
       "      <th>RETAIL_DISC</th>\n",
       "      <th>WEEK_NO</th>\n",
       "      <th>COUPON_DISC</th>\n",
       "      <th>COUPON_MATCH_DISC</th>\n",
       "    </tr>\n",
       "  </thead>\n",
       "  <tbody>\n",
       "    <tr>\n",
       "      <th>0</th>\n",
       "      <td>1364</td>\n",
       "      <td>26984896261</td>\n",
       "      <td>1</td>\n",
       "      <td>842930</td>\n",
       "      <td>1</td>\n",
       "      <td>2.19</td>\n",
       "      <td>31742</td>\n",
       "      <td>0.00</td>\n",
       "      <td>1</td>\n",
       "      <td>0.0</td>\n",
       "      <td>0.0</td>\n",
       "    </tr>\n",
       "    <tr>\n",
       "      <th>1</th>\n",
       "      <td>1364</td>\n",
       "      <td>26984896261</td>\n",
       "      <td>1</td>\n",
       "      <td>897044</td>\n",
       "      <td>1</td>\n",
       "      <td>2.99</td>\n",
       "      <td>31742</td>\n",
       "      <td>-0.40</td>\n",
       "      <td>1</td>\n",
       "      <td>0.0</td>\n",
       "      <td>0.0</td>\n",
       "    </tr>\n",
       "    <tr>\n",
       "      <th>2</th>\n",
       "      <td>1364</td>\n",
       "      <td>26984896261</td>\n",
       "      <td>1</td>\n",
       "      <td>920955</td>\n",
       "      <td>1</td>\n",
       "      <td>3.09</td>\n",
       "      <td>31742</td>\n",
       "      <td>0.00</td>\n",
       "      <td>1</td>\n",
       "      <td>0.0</td>\n",
       "      <td>0.0</td>\n",
       "    </tr>\n",
       "    <tr>\n",
       "      <th>3</th>\n",
       "      <td>1364</td>\n",
       "      <td>26984896261</td>\n",
       "      <td>1</td>\n",
       "      <td>937406</td>\n",
       "      <td>1</td>\n",
       "      <td>2.50</td>\n",
       "      <td>31742</td>\n",
       "      <td>-0.99</td>\n",
       "      <td>1</td>\n",
       "      <td>0.0</td>\n",
       "      <td>0.0</td>\n",
       "    </tr>\n",
       "    <tr>\n",
       "      <th>4</th>\n",
       "      <td>1364</td>\n",
       "      <td>26984896261</td>\n",
       "      <td>1</td>\n",
       "      <td>981760</td>\n",
       "      <td>1</td>\n",
       "      <td>0.60</td>\n",
       "      <td>31742</td>\n",
       "      <td>-0.79</td>\n",
       "      <td>1</td>\n",
       "      <td>0.0</td>\n",
       "      <td>0.0</td>\n",
       "    </tr>\n",
       "    <tr>\n",
       "      <th>...</th>\n",
       "      <td>...</td>\n",
       "      <td>...</td>\n",
       "      <td>...</td>\n",
       "      <td>...</td>\n",
       "      <td>...</td>\n",
       "      <td>...</td>\n",
       "      <td>...</td>\n",
       "      <td>...</td>\n",
       "      <td>...</td>\n",
       "      <td>...</td>\n",
       "      <td>...</td>\n",
       "    </tr>\n",
       "    <tr>\n",
       "      <th>2146306</th>\n",
       "      <td>1598</td>\n",
       "      <td>42305362535</td>\n",
       "      <td>711</td>\n",
       "      <td>92130</td>\n",
       "      <td>1</td>\n",
       "      <td>0.99</td>\n",
       "      <td>3228</td>\n",
       "      <td>0.00</td>\n",
       "      <td>102</td>\n",
       "      <td>0.0</td>\n",
       "      <td>0.0</td>\n",
       "    </tr>\n",
       "    <tr>\n",
       "      <th>2146307</th>\n",
       "      <td>1598</td>\n",
       "      <td>42305362535</td>\n",
       "      <td>711</td>\n",
       "      <td>114102</td>\n",
       "      <td>1</td>\n",
       "      <td>8.89</td>\n",
       "      <td>3228</td>\n",
       "      <td>0.00</td>\n",
       "      <td>102</td>\n",
       "      <td>0.0</td>\n",
       "      <td>0.0</td>\n",
       "    </tr>\n",
       "    <tr>\n",
       "      <th>2146308</th>\n",
       "      <td>1598</td>\n",
       "      <td>42305362535</td>\n",
       "      <td>711</td>\n",
       "      <td>133449</td>\n",
       "      <td>1</td>\n",
       "      <td>6.99</td>\n",
       "      <td>3228</td>\n",
       "      <td>0.00</td>\n",
       "      <td>102</td>\n",
       "      <td>0.0</td>\n",
       "      <td>0.0</td>\n",
       "    </tr>\n",
       "    <tr>\n",
       "      <th>2146309</th>\n",
       "      <td>1598</td>\n",
       "      <td>42305362535</td>\n",
       "      <td>711</td>\n",
       "      <td>6923644</td>\n",
       "      <td>1</td>\n",
       "      <td>4.50</td>\n",
       "      <td>3228</td>\n",
       "      <td>-0.49</td>\n",
       "      <td>102</td>\n",
       "      <td>0.0</td>\n",
       "      <td>0.0</td>\n",
       "    </tr>\n",
       "    <tr>\n",
       "      <th>2146310</th>\n",
       "      <td>1598</td>\n",
       "      <td>42305362535</td>\n",
       "      <td>711</td>\n",
       "      <td>14055192</td>\n",
       "      <td>1</td>\n",
       "      <td>6.99</td>\n",
       "      <td>3228</td>\n",
       "      <td>0.00</td>\n",
       "      <td>102</td>\n",
       "      <td>0.0</td>\n",
       "      <td>0.0</td>\n",
       "    </tr>\n",
       "  </tbody>\n",
       "</table>\n",
       "<p>2146311 rows × 11 columns</p>\n",
       "</div>"
      ],
      "text/plain": [
       "         household_key    BASKET_ID  DAY  PRODUCT_ID  QUANTITY  SALES_VALUE  \\\n",
       "0                 1364  26984896261    1      842930         1         2.19   \n",
       "1                 1364  26984896261    1      897044         1         2.99   \n",
       "2                 1364  26984896261    1      920955         1         3.09   \n",
       "3                 1364  26984896261    1      937406         1         2.50   \n",
       "4                 1364  26984896261    1      981760         1         0.60   \n",
       "...                ...          ...  ...         ...       ...          ...   \n",
       "2146306           1598  42305362535  711       92130         1         0.99   \n",
       "2146307           1598  42305362535  711      114102         1         8.89   \n",
       "2146308           1598  42305362535  711      133449         1         6.99   \n",
       "2146309           1598  42305362535  711     6923644         1         4.50   \n",
       "2146310           1598  42305362535  711    14055192         1         6.99   \n",
       "\n",
       "         STORE_ID  RETAIL_DISC  WEEK_NO  COUPON_DISC  COUPON_MATCH_DISC  \n",
       "0           31742         0.00        1          0.0                0.0  \n",
       "1           31742        -0.40        1          0.0                0.0  \n",
       "2           31742         0.00        1          0.0                0.0  \n",
       "3           31742        -0.99        1          0.0                0.0  \n",
       "4           31742        -0.79        1          0.0                0.0  \n",
       "...           ...          ...      ...          ...                ...  \n",
       "2146306      3228         0.00      102          0.0                0.0  \n",
       "2146307      3228         0.00      102          0.0                0.0  \n",
       "2146308      3228         0.00      102          0.0                0.0  \n",
       "2146309      3228        -0.49      102          0.0                0.0  \n",
       "2146310      3228         0.00      102          0.0                0.0  \n",
       "\n",
       "[2146311 rows x 11 columns]"
      ]
     },
     "execution_count": 40,
     "metadata": {},
     "output_type": "execute_result"
    }
   ],
   "source": [
    "df3 = pd.read_csv('/kaggle/input/hackathonxx/project_transactions.csv')\n",
    "df3"
   ]
  },
  {
   "cell_type": "code",
   "execution_count": 41,
   "id": "d4b21d4c",
   "metadata": {
    "execution": {
     "iopub.execute_input": "2025-02-21T00:08:10.634573Z",
     "iopub.status.busy": "2025-02-21T00:08:10.634171Z",
     "iopub.status.idle": "2025-02-21T00:08:10.881789Z",
     "shell.execute_reply": "2025-02-21T00:08:10.880515Z"
    },
    "papermill": {
     "duration": 0.279892,
     "end_time": "2025-02-21T00:08:10.884191",
     "exception": false,
     "start_time": "2025-02-21T00:08:10.604299",
     "status": "completed"
    },
    "tags": []
   },
   "outputs": [
    {
     "data": {
      "text/html": [
       "<div>\n",
       "<style scoped>\n",
       "    .dataframe tbody tr th:only-of-type {\n",
       "        vertical-align: middle;\n",
       "    }\n",
       "\n",
       "    .dataframe tbody tr th {\n",
       "        vertical-align: top;\n",
       "    }\n",
       "\n",
       "    .dataframe thead th {\n",
       "        text-align: right;\n",
       "    }\n",
       "</style>\n",
       "<table border=\"1\" class=\"dataframe\">\n",
       "  <thead>\n",
       "    <tr style=\"text-align: right;\">\n",
       "      <th></th>\n",
       "      <th>household_key</th>\n",
       "      <th>BASKET_ID</th>\n",
       "      <th>DAY</th>\n",
       "      <th>PRODUCT_ID</th>\n",
       "      <th>QUANTITY</th>\n",
       "      <th>SALES_VALUE</th>\n",
       "      <th>STORE_ID</th>\n",
       "      <th>RETAIL_DISC</th>\n",
       "      <th>WEEK_NO</th>\n",
       "      <th>COUPON_DISC</th>\n",
       "      <th>COUPON_MATCH_DISC</th>\n",
       "    </tr>\n",
       "  </thead>\n",
       "  <tbody>\n",
       "    <tr>\n",
       "      <th>0</th>\n",
       "      <td>1364</td>\n",
       "      <td>26984896261</td>\n",
       "      <td>1</td>\n",
       "      <td>842930</td>\n",
       "      <td>1</td>\n",
       "      <td>2.19</td>\n",
       "      <td>31742</td>\n",
       "      <td>0.00</td>\n",
       "      <td>1</td>\n",
       "      <td>0.0</td>\n",
       "      <td>0.0</td>\n",
       "    </tr>\n",
       "    <tr>\n",
       "      <th>1</th>\n",
       "      <td>1364</td>\n",
       "      <td>26984896261</td>\n",
       "      <td>1</td>\n",
       "      <td>897044</td>\n",
       "      <td>1</td>\n",
       "      <td>2.99</td>\n",
       "      <td>31742</td>\n",
       "      <td>-0.40</td>\n",
       "      <td>1</td>\n",
       "      <td>0.0</td>\n",
       "      <td>0.0</td>\n",
       "    </tr>\n",
       "    <tr>\n",
       "      <th>2</th>\n",
       "      <td>1364</td>\n",
       "      <td>26984896261</td>\n",
       "      <td>1</td>\n",
       "      <td>920955</td>\n",
       "      <td>1</td>\n",
       "      <td>3.09</td>\n",
       "      <td>31742</td>\n",
       "      <td>0.00</td>\n",
       "      <td>1</td>\n",
       "      <td>0.0</td>\n",
       "      <td>0.0</td>\n",
       "    </tr>\n",
       "    <tr>\n",
       "      <th>3</th>\n",
       "      <td>1364</td>\n",
       "      <td>26984896261</td>\n",
       "      <td>1</td>\n",
       "      <td>937406</td>\n",
       "      <td>1</td>\n",
       "      <td>2.50</td>\n",
       "      <td>31742</td>\n",
       "      <td>-0.99</td>\n",
       "      <td>1</td>\n",
       "      <td>0.0</td>\n",
       "      <td>0.0</td>\n",
       "    </tr>\n",
       "    <tr>\n",
       "      <th>4</th>\n",
       "      <td>1364</td>\n",
       "      <td>26984896261</td>\n",
       "      <td>1</td>\n",
       "      <td>981760</td>\n",
       "      <td>1</td>\n",
       "      <td>0.60</td>\n",
       "      <td>31742</td>\n",
       "      <td>-0.79</td>\n",
       "      <td>1</td>\n",
       "      <td>0.0</td>\n",
       "      <td>0.0</td>\n",
       "    </tr>\n",
       "    <tr>\n",
       "      <th>...</th>\n",
       "      <td>...</td>\n",
       "      <td>...</td>\n",
       "      <td>...</td>\n",
       "      <td>...</td>\n",
       "      <td>...</td>\n",
       "      <td>...</td>\n",
       "      <td>...</td>\n",
       "      <td>...</td>\n",
       "      <td>...</td>\n",
       "      <td>...</td>\n",
       "      <td>...</td>\n",
       "    </tr>\n",
       "    <tr>\n",
       "      <th>2146306</th>\n",
       "      <td>1598</td>\n",
       "      <td>42305362535</td>\n",
       "      <td>711</td>\n",
       "      <td>92130</td>\n",
       "      <td>1</td>\n",
       "      <td>0.99</td>\n",
       "      <td>3228</td>\n",
       "      <td>0.00</td>\n",
       "      <td>102</td>\n",
       "      <td>0.0</td>\n",
       "      <td>0.0</td>\n",
       "    </tr>\n",
       "    <tr>\n",
       "      <th>2146307</th>\n",
       "      <td>1598</td>\n",
       "      <td>42305362535</td>\n",
       "      <td>711</td>\n",
       "      <td>114102</td>\n",
       "      <td>1</td>\n",
       "      <td>8.89</td>\n",
       "      <td>3228</td>\n",
       "      <td>0.00</td>\n",
       "      <td>102</td>\n",
       "      <td>0.0</td>\n",
       "      <td>0.0</td>\n",
       "    </tr>\n",
       "    <tr>\n",
       "      <th>2146308</th>\n",
       "      <td>1598</td>\n",
       "      <td>42305362535</td>\n",
       "      <td>711</td>\n",
       "      <td>133449</td>\n",
       "      <td>1</td>\n",
       "      <td>6.99</td>\n",
       "      <td>3228</td>\n",
       "      <td>0.00</td>\n",
       "      <td>102</td>\n",
       "      <td>0.0</td>\n",
       "      <td>0.0</td>\n",
       "    </tr>\n",
       "    <tr>\n",
       "      <th>2146309</th>\n",
       "      <td>1598</td>\n",
       "      <td>42305362535</td>\n",
       "      <td>711</td>\n",
       "      <td>6923644</td>\n",
       "      <td>1</td>\n",
       "      <td>4.50</td>\n",
       "      <td>3228</td>\n",
       "      <td>-0.49</td>\n",
       "      <td>102</td>\n",
       "      <td>0.0</td>\n",
       "      <td>0.0</td>\n",
       "    </tr>\n",
       "    <tr>\n",
       "      <th>2146310</th>\n",
       "      <td>1598</td>\n",
       "      <td>42305362535</td>\n",
       "      <td>711</td>\n",
       "      <td>14055192</td>\n",
       "      <td>1</td>\n",
       "      <td>6.99</td>\n",
       "      <td>3228</td>\n",
       "      <td>0.00</td>\n",
       "      <td>102</td>\n",
       "      <td>0.0</td>\n",
       "      <td>0.0</td>\n",
       "    </tr>\n",
       "  </tbody>\n",
       "</table>\n",
       "<p>2146311 rows × 11 columns</p>\n",
       "</div>"
      ],
      "text/plain": [
       "         household_key    BASKET_ID  DAY  PRODUCT_ID  QUANTITY  SALES_VALUE  \\\n",
       "0                 1364  26984896261    1      842930         1         2.19   \n",
       "1                 1364  26984896261    1      897044         1         2.99   \n",
       "2                 1364  26984896261    1      920955         1         3.09   \n",
       "3                 1364  26984896261    1      937406         1         2.50   \n",
       "4                 1364  26984896261    1      981760         1         0.60   \n",
       "...                ...          ...  ...         ...       ...          ...   \n",
       "2146306           1598  42305362535  711       92130         1         0.99   \n",
       "2146307           1598  42305362535  711      114102         1         8.89   \n",
       "2146308           1598  42305362535  711      133449         1         6.99   \n",
       "2146309           1598  42305362535  711     6923644         1         4.50   \n",
       "2146310           1598  42305362535  711    14055192         1         6.99   \n",
       "\n",
       "         STORE_ID  RETAIL_DISC  WEEK_NO  COUPON_DISC  COUPON_MATCH_DISC  \n",
       "0           31742         0.00        1          0.0                0.0  \n",
       "1           31742        -0.40        1          0.0                0.0  \n",
       "2           31742         0.00        1          0.0                0.0  \n",
       "3           31742        -0.99        1          0.0                0.0  \n",
       "4           31742        -0.79        1          0.0                0.0  \n",
       "...           ...          ...      ...          ...                ...  \n",
       "2146306      3228         0.00      102          0.0                0.0  \n",
       "2146307      3228         0.00      102          0.0                0.0  \n",
       "2146308      3228         0.00      102          0.0                0.0  \n",
       "2146309      3228        -0.49      102          0.0                0.0  \n",
       "2146310      3228         0.00      102          0.0                0.0  \n",
       "\n",
       "[2146311 rows x 11 columns]"
      ]
     },
     "execution_count": 41,
     "metadata": {},
     "output_type": "execute_result"
    }
   ],
   "source": [
    "df3['DAY'] = pd.to_numeric(df3['DAY'], downcast='integer')\n",
    "df3['QUANTITY'] = pd.to_numeric(df3['QUANTITY'], downcast='integer')\n",
    "df3['PRODUCT_ID'] = pd.to_numeric(df3['PRODUCT_ID'], downcast='integer')\n",
    "df3"
   ]
  },
  {
   "cell_type": "markdown",
   "id": "8a2b90e6",
   "metadata": {
    "papermill": {
     "duration": 0.03287,
     "end_time": "2025-02-21T00:08:10.945750",
     "exception": false,
     "start_time": "2025-02-21T00:08:10.912880",
     "status": "completed"
    },
    "tags": []
   },
   "source": [
    "### Section2"
   ]
  },
  {
   "cell_type": "code",
   "execution_count": 42,
   "id": "c42101ee",
   "metadata": {
    "execution": {
     "iopub.execute_input": "2025-02-21T00:08:11.008202Z",
     "iopub.status.busy": "2025-02-21T00:08:11.007811Z",
     "iopub.status.idle": "2025-02-21T00:08:11.012894Z",
     "shell.execute_reply": "2025-02-21T00:08:11.011793Z"
    },
    "papermill": {
     "duration": 0.03882,
     "end_time": "2025-02-21T00:08:11.015167",
     "exception": false,
     "start_time": "2025-02-21T00:08:10.976347",
     "status": "completed"
    },
    "tags": []
   },
   "outputs": [],
   "source": [
    "import matplotlib.pyplot as plt"
   ]
  },
  {
   "cell_type": "markdown",
   "id": "3e36df63",
   "metadata": {
    "papermill": {
     "duration": 0.029623,
     "end_time": "2025-02-21T00:08:11.075986",
     "exception": false,
     "start_time": "2025-02-21T00:08:11.046363",
     "status": "completed"
    },
    "tags": []
   },
   "source": [
    "3)"
   ]
  },
  {
   "cell_type": "code",
   "execution_count": 43,
   "id": "d48e01ce",
   "metadata": {
    "execution": {
     "iopub.execute_input": "2025-02-21T00:08:11.138912Z",
     "iopub.status.busy": "2025-02-21T00:08:11.138135Z",
     "iopub.status.idle": "2025-02-21T00:08:13.455024Z",
     "shell.execute_reply": "2025-02-21T00:08:13.453690Z"
    },
    "papermill": {
     "duration": 2.350992,
     "end_time": "2025-02-21T00:08:13.456777",
     "exception": true,
     "start_time": "2025-02-21T00:08:11.105785",
     "status": "failed"
    },
    "tags": []
   },
   "outputs": [
    {
     "ename": "KeyError",
     "evalue": "'DATE'",
     "output_type": "error",
     "traceback": [
      "\u001b[0;31m---------------------------------------------------------------------------\u001b[0m",
      "\u001b[0;31mKeyError\u001b[0m                                  Traceback (most recent call last)",
      "File \u001b[0;32m/opt/conda/lib/python3.10/site-packages/pandas/core/indexes/base.py:3805\u001b[0m, in \u001b[0;36mIndex.get_loc\u001b[0;34m(self, key)\u001b[0m\n\u001b[1;32m   3804\u001b[0m \u001b[38;5;28;01mtry\u001b[39;00m:\n\u001b[0;32m-> 3805\u001b[0m     \u001b[38;5;28;01mreturn\u001b[39;00m \u001b[38;5;28;43mself\u001b[39;49m\u001b[38;5;241;43m.\u001b[39;49m\u001b[43m_engine\u001b[49m\u001b[38;5;241;43m.\u001b[39;49m\u001b[43mget_loc\u001b[49m\u001b[43m(\u001b[49m\u001b[43mcasted_key\u001b[49m\u001b[43m)\u001b[49m\n\u001b[1;32m   3806\u001b[0m \u001b[38;5;28;01mexcept\u001b[39;00m \u001b[38;5;167;01mKeyError\u001b[39;00m \u001b[38;5;28;01mas\u001b[39;00m err:\n",
      "File \u001b[0;32mindex.pyx:167\u001b[0m, in \u001b[0;36mpandas._libs.index.IndexEngine.get_loc\u001b[0;34m()\u001b[0m\n",
      "File \u001b[0;32mindex.pyx:196\u001b[0m, in \u001b[0;36mpandas._libs.index.IndexEngine.get_loc\u001b[0;34m()\u001b[0m\n",
      "File \u001b[0;32mpandas/_libs/hashtable_class_helper.pxi:7081\u001b[0m, in \u001b[0;36mpandas._libs.hashtable.PyObjectHashTable.get_item\u001b[0;34m()\u001b[0m\n",
      "File \u001b[0;32mpandas/_libs/hashtable_class_helper.pxi:7089\u001b[0m, in \u001b[0;36mpandas._libs.hashtable.PyObjectHashTable.get_item\u001b[0;34m()\u001b[0m\n",
      "\u001b[0;31mKeyError\u001b[0m: 'DATE'",
      "\nThe above exception was the direct cause of the following exception:\n",
      "\u001b[0;31mKeyError\u001b[0m                                  Traceback (most recent call last)",
      "Cell \u001b[0;32mIn[43], line 1\u001b[0m\n\u001b[0;32m----> 1\u001b[0m sales_2016 \u001b[38;5;241m=\u001b[39m df3[\u001b[43mdf3\u001b[49m\u001b[43m[\u001b[49m\u001b[38;5;124;43m'\u001b[39;49m\u001b[38;5;124;43mDATE\u001b[39;49m\u001b[38;5;124;43m'\u001b[39;49m\u001b[43m]\u001b[49m\u001b[38;5;241m.\u001b[39mdt\u001b[38;5;241m.\u001b[39myear \u001b[38;5;241m==\u001b[39m \u001b[38;5;241m2016\u001b[39m]\u001b[38;5;241m.\u001b[39mgroupby(df3[\u001b[38;5;124m'\u001b[39m\u001b[38;5;124mDATE\u001b[39m\u001b[38;5;124m'\u001b[39m]\u001b[38;5;241m.\u001b[39mdt\u001b[38;5;241m.\u001b[39mmonth)[\u001b[38;5;124m'\u001b[39m\u001b[38;5;124mSALES_VALUE\u001b[39m\u001b[38;5;124m'\u001b[39m]\u001b[38;5;241m.\u001b[39msum()\n\u001b[1;32m      2\u001b[0m sales_2017 \u001b[38;5;241m=\u001b[39m df3[df3[\u001b[38;5;124m'\u001b[39m\u001b[38;5;124mDATE\u001b[39m\u001b[38;5;124m'\u001b[39m]\u001b[38;5;241m.\u001b[39mdt\u001b[38;5;241m.\u001b[39myear \u001b[38;5;241m==\u001b[39m \u001b[38;5;241m2017\u001b[39m]\u001b[38;5;241m.\u001b[39mgroupby(df3[\u001b[38;5;124m'\u001b[39m\u001b[38;5;124mDATE\u001b[39m\u001b[38;5;124m'\u001b[39m]\u001b[38;5;241m.\u001b[39mdt\u001b[38;5;241m.\u001b[39mmonth)[\u001b[38;5;124m'\u001b[39m\u001b[38;5;124mSALES_VALUE\u001b[39m\u001b[38;5;124m'\u001b[39m]\u001b[38;5;241m.\u001b[39msum()\n\u001b[1;32m      4\u001b[0m \u001b[38;5;66;03m# Plot the sales comparison\u001b[39;00m\n",
      "File \u001b[0;32m/opt/conda/lib/python3.10/site-packages/pandas/core/frame.py:4102\u001b[0m, in \u001b[0;36mDataFrame.__getitem__\u001b[0;34m(self, key)\u001b[0m\n\u001b[1;32m   4100\u001b[0m \u001b[38;5;28;01mif\u001b[39;00m \u001b[38;5;28mself\u001b[39m\u001b[38;5;241m.\u001b[39mcolumns\u001b[38;5;241m.\u001b[39mnlevels \u001b[38;5;241m>\u001b[39m \u001b[38;5;241m1\u001b[39m:\n\u001b[1;32m   4101\u001b[0m     \u001b[38;5;28;01mreturn\u001b[39;00m \u001b[38;5;28mself\u001b[39m\u001b[38;5;241m.\u001b[39m_getitem_multilevel(key)\n\u001b[0;32m-> 4102\u001b[0m indexer \u001b[38;5;241m=\u001b[39m \u001b[38;5;28;43mself\u001b[39;49m\u001b[38;5;241;43m.\u001b[39;49m\u001b[43mcolumns\u001b[49m\u001b[38;5;241;43m.\u001b[39;49m\u001b[43mget_loc\u001b[49m\u001b[43m(\u001b[49m\u001b[43mkey\u001b[49m\u001b[43m)\u001b[49m\n\u001b[1;32m   4103\u001b[0m \u001b[38;5;28;01mif\u001b[39;00m is_integer(indexer):\n\u001b[1;32m   4104\u001b[0m     indexer \u001b[38;5;241m=\u001b[39m [indexer]\n",
      "File \u001b[0;32m/opt/conda/lib/python3.10/site-packages/pandas/core/indexes/base.py:3812\u001b[0m, in \u001b[0;36mIndex.get_loc\u001b[0;34m(self, key)\u001b[0m\n\u001b[1;32m   3807\u001b[0m     \u001b[38;5;28;01mif\u001b[39;00m \u001b[38;5;28misinstance\u001b[39m(casted_key, \u001b[38;5;28mslice\u001b[39m) \u001b[38;5;129;01mor\u001b[39;00m (\n\u001b[1;32m   3808\u001b[0m         \u001b[38;5;28misinstance\u001b[39m(casted_key, abc\u001b[38;5;241m.\u001b[39mIterable)\n\u001b[1;32m   3809\u001b[0m         \u001b[38;5;129;01mand\u001b[39;00m \u001b[38;5;28many\u001b[39m(\u001b[38;5;28misinstance\u001b[39m(x, \u001b[38;5;28mslice\u001b[39m) \u001b[38;5;28;01mfor\u001b[39;00m x \u001b[38;5;129;01min\u001b[39;00m casted_key)\n\u001b[1;32m   3810\u001b[0m     ):\n\u001b[1;32m   3811\u001b[0m         \u001b[38;5;28;01mraise\u001b[39;00m InvalidIndexError(key)\n\u001b[0;32m-> 3812\u001b[0m     \u001b[38;5;28;01mraise\u001b[39;00m \u001b[38;5;167;01mKeyError\u001b[39;00m(key) \u001b[38;5;28;01mfrom\u001b[39;00m \u001b[38;5;21;01merr\u001b[39;00m\n\u001b[1;32m   3813\u001b[0m \u001b[38;5;28;01mexcept\u001b[39;00m \u001b[38;5;167;01mTypeError\u001b[39;00m:\n\u001b[1;32m   3814\u001b[0m     \u001b[38;5;66;03m# If we have a listlike key, _check_indexing_error will raise\u001b[39;00m\n\u001b[1;32m   3815\u001b[0m     \u001b[38;5;66;03m#  InvalidIndexError. Otherwise we fall through and re-raise\u001b[39;00m\n\u001b[1;32m   3816\u001b[0m     \u001b[38;5;66;03m#  the TypeError.\u001b[39;00m\n\u001b[1;32m   3817\u001b[0m     \u001b[38;5;28mself\u001b[39m\u001b[38;5;241m.\u001b[39m_check_indexing_error(key)\n",
      "\u001b[0;31mKeyError\u001b[0m: 'DATE'"
     ]
    }
   ],
   "source": [
    "sales_2016 = df3[df3['DATE'].dt.year == 2016].groupby(df3['DATE'].dt.month)['SALES_VALUE'].sum()\n",
    "sales_2017 = df3[df3['DATE'].dt.year == 2017].groupby(df3['DATE'].dt.month)['SALES_VALUE'].sum()\n",
    "\n",
    "# Plot the sales comparison\n",
    "plt.figure(figsize=(10, 6))\n",
    "plt.plot(sales_2016, label='2016', marker='o')\n",
    "plt.plot(sales_2017, label='2017', marker='o')\n",
    "plt.title('Monthly Sales Comparison: 2016 vs 2017')\n",
    "plt.xlabel('Month')\n",
    "plt.ylabel('Total Sales')\n",
    "plt.legend()\n",
    "plt.grid(True)\n",
    "plt.show()"
   ]
  },
  {
   "cell_type": "markdown",
   "id": "e92f9fca",
   "metadata": {
    "papermill": {
     "duration": null,
     "end_time": null,
     "exception": null,
     "start_time": null,
     "status": "pending"
    },
    "tags": []
   },
   "source": [
    "### 4)"
   ]
  },
  {
   "cell_type": "code",
   "execution_count": null,
   "id": "cad144eb",
   "metadata": {
    "execution": {
     "iopub.execute_input": "2024-08-17T11:33:42.137912Z",
     "iopub.status.busy": "2024-08-17T11:33:42.137504Z",
     "iopub.status.idle": "2024-08-17T11:33:42.440646Z",
     "shell.execute_reply": "2024-08-17T11:33:42.439469Z",
     "shell.execute_reply.started": "2024-08-17T11:33:42.137882Z"
    },
    "papermill": {
     "duration": null,
     "end_time": null,
     "exception": null,
     "start_time": null,
     "status": "pending"
    },
    "tags": []
   },
   "outputs": [],
   "source": [
    "# Group by WEEK_NO and sum the sales\n",
    "sales = df3.groupby('WEEK_NO')['SALES_VALUE'].sum()\n",
    "\n",
    "# Plot the sales over weeks\n",
    "plt.figure(figsize=(10, 6))\n",
    "sales.plot()\n",
    "plt.title('Sum of Sales by Week Number')\n",
    "plt.xlabel('Week Number')\n",
    "plt.ylabel('Total Sales')\n",
    "plt.grid(True)\n",
    "plt.show()"
   ]
  },
  {
   "cell_type": "markdown",
   "id": "4698d197",
   "metadata": {
    "papermill": {
     "duration": null,
     "end_time": null,
     "exception": null,
     "start_time": null,
     "status": "pending"
    },
    "tags": []
   },
   "source": [
    "### 5)"
   ]
  },
  {
   "cell_type": "code",
   "execution_count": null,
   "id": "3b9fad7c",
   "metadata": {
    "execution": {
     "iopub.execute_input": "2024-08-17T11:36:36.232882Z",
     "iopub.status.busy": "2024-08-17T11:36:36.232390Z",
     "iopub.status.idle": "2024-08-17T11:36:42.080780Z",
     "shell.execute_reply": "2024-08-17T11:36:42.079575Z",
     "shell.execute_reply.started": "2024-08-17T11:36:36.232850Z"
    },
    "papermill": {
     "duration": null,
     "end_time": null,
     "exception": null,
     "start_time": null,
     "status": "pending"
    },
    "tags": []
   },
   "outputs": [],
   "source": [
    "plt.figure(figsize=(10, 6))\n",
    "plt.scatter(df3['BASKET_ID'], df3['QUANTITY'], alpha=0.5)\n",
    "plt.title('Relationship Between BASKET_ID and QUANTITY')\n",
    "plt.xlabel('Basket ID')\n",
    "plt.ylabel('Quantity')\n",
    "plt.grid(True)\n",
    "plt.show()"
   ]
  },
  {
   "cell_type": "markdown",
   "id": "eb29d8d0",
   "metadata": {
    "papermill": {
     "duration": null,
     "end_time": null,
     "exception": null,
     "start_time": null,
     "status": "pending"
    },
    "tags": []
   },
   "source": [
    "### 6)"
   ]
  },
  {
   "cell_type": "code",
   "execution_count": null,
   "id": "7004856e",
   "metadata": {
    "execution": {
     "iopub.execute_input": "2024-08-17T11:37:03.820166Z",
     "iopub.status.busy": "2024-08-17T11:37:03.819732Z",
     "iopub.status.idle": "2024-08-17T11:37:04.313888Z",
     "shell.execute_reply": "2024-08-17T11:37:04.312464Z",
     "shell.execute_reply.started": "2024-08-17T11:37:03.820132Z"
    },
    "papermill": {
     "duration": null,
     "end_time": null,
     "exception": null,
     "start_time": null,
     "status": "pending"
    },
    "tags": []
   },
   "outputs": [],
   "source": [
    "dd = df3.groupby('household_key')[['COUPON_DISC', 'COUPON_MATCH_DISC']].sum()\n",
    "\n",
    "plt.figure(figsize=(10, 6))\n",
    "dd.plot(kind='hist', alpha=0.7, bins=30)\n",
    "plt.title('Distribution of Coupon Discounts Across Households')\n",
    "plt.xlabel('Discount Value')\n",
    "plt.ylabel('Frequency')\n",
    "plt.grid(True)\n",
    "plt.show()"
   ]
  },
  {
   "cell_type": "markdown",
   "id": "74e1df1c",
   "metadata": {
    "papermill": {
     "duration": null,
     "end_time": null,
     "exception": null,
     "start_time": null,
     "status": "pending"
    },
    "tags": []
   },
   "source": [
    "### 7)"
   ]
  },
  {
   "cell_type": "code",
   "execution_count": null,
   "id": "8fa7c0f0",
   "metadata": {
    "execution": {
     "iopub.execute_input": "2024-08-17T11:38:34.807562Z",
     "iopub.status.busy": "2024-08-17T11:38:34.806416Z",
     "iopub.status.idle": "2024-08-17T11:38:34.928592Z",
     "shell.execute_reply": "2024-08-17T11:38:34.927262Z",
     "shell.execute_reply.started": "2024-08-17T11:38:34.807499Z"
    },
    "papermill": {
     "duration": null,
     "end_time": null,
     "exception": null,
     "start_time": null,
     "status": "pending"
    },
    "tags": []
   },
   "outputs": [],
   "source": [
    "sums = df3.groupby('PRODUCT_ID')['QUANTITY'].sum()\n",
    "\n",
    "# Sort the products by quantity in descending order and select the top 10\n",
    "top_10 = sums.sort_values(ascending=False).head(10)\n",
    "top_10"
   ]
  },
  {
   "cell_type": "code",
   "execution_count": null,
   "id": "c7dbc6fd",
   "metadata": {
    "execution": {
     "iopub.execute_input": "2024-08-17T11:38:48.486991Z",
     "iopub.status.busy": "2024-08-17T11:38:48.485860Z",
     "iopub.status.idle": "2024-08-17T11:38:48.853223Z",
     "shell.execute_reply": "2024-08-17T11:38:48.851946Z",
     "shell.execute_reply.started": "2024-08-17T11:38:48.486946Z"
    },
    "papermill": {
     "duration": null,
     "end_time": null,
     "exception": null,
     "start_time": null,
     "status": "pending"
    },
    "tags": []
   },
   "outputs": [],
   "source": [
    "plt.figure(figsize=(10, 6))\n",
    "top_10.plot(kind='bar', color='skyblue')\n",
    "plt.title('Top 10 Products by Quantity Purchased')\n",
    "plt.xlabel('Product ID')\n",
    "plt.ylabel('Total Quantity Purchased')\n",
    "plt.xticks(rotation=45)\n",
    "plt.show()"
   ]
  },
  {
   "cell_type": "markdown",
   "id": "240910df",
   "metadata": {
    "papermill": {
     "duration": null,
     "end_time": null,
     "exception": null,
     "start_time": null,
     "status": "pending"
    },
    "tags": []
   },
   "source": [
    "### Section2"
   ]
  },
  {
   "cell_type": "code",
   "execution_count": null,
   "id": "ed7c36d0",
   "metadata": {
    "execution": {
     "iopub.execute_input": "2024-08-17T11:39:42.158398Z",
     "iopub.status.busy": "2024-08-17T11:39:42.157986Z",
     "iopub.status.idle": "2024-08-17T11:39:42.213036Z",
     "shell.execute_reply": "2024-08-17T11:39:42.211828Z",
     "shell.execute_reply.started": "2024-08-17T11:39:42.158365Z"
    },
    "papermill": {
     "duration": null,
     "end_time": null,
     "exception": null,
     "start_time": null,
     "status": "pending"
    },
    "tags": []
   },
   "outputs": [],
   "source": [
    "sales = df3.groupby('household_key')['SALES_VALUE'].sum()\n",
    "sales"
   ]
  },
  {
   "cell_type": "code",
   "execution_count": null,
   "id": "76495b6c",
   "metadata": {
    "execution": {
     "iopub.execute_input": "2024-08-17T13:06:01.651107Z",
     "iopub.status.busy": "2024-08-17T13:06:01.650495Z",
     "iopub.status.idle": "2024-08-17T13:06:03.622231Z",
     "shell.execute_reply": "2024-08-17T13:06:03.621173Z",
     "shell.execute_reply.started": "2024-08-17T13:06:01.651065Z"
    },
    "papermill": {
     "duration": null,
     "end_time": null,
     "exception": null,
     "start_time": null,
     "status": "pending"
    },
    "tags": []
   },
   "outputs": [],
   "source": [
    "df_demographics = pd.read_csv('/kaggle/input/hackathonxx/project_transactions.csv')\n",
    "df_demographics"
   ]
  },
  {
   "cell_type": "code",
   "execution_count": null,
   "id": "7345abbe",
   "metadata": {
    "execution": {
     "iopub.execute_input": "2024-08-17T13:06:06.082757Z",
     "iopub.status.busy": "2024-08-17T13:06:06.082367Z"
    },
    "papermill": {
     "duration": null,
     "end_time": null,
     "exception": null,
     "start_time": null,
     "status": "pending"
    },
    "tags": []
   },
   "outputs": [],
   "source": [
    "merged_data = pd.merge(df3, df_demographics, on='household_key')\n",
    "\n",
    "\n",
    "avg_sales = merged_data.groupby('HOMEOWNER_DESC')['SALES_VALUE'].mean()\n",
    "avg_sales"
   ]
  },
  {
   "cell_type": "code",
   "execution_count": null,
   "id": "582bcd27",
   "metadata": {
    "papermill": {
     "duration": null,
     "end_time": null,
     "exception": null,
     "start_time": null,
     "status": "pending"
    },
    "tags": []
   },
   "outputs": [],
   "source": []
  },
  {
   "cell_type": "code",
   "execution_count": null,
   "id": "429d3b88",
   "metadata": {
    "execution": {
     "iopub.execute_input": "2024-08-17T11:46:43.284157Z",
     "iopub.status.busy": "2024-08-17T11:46:43.283685Z",
     "iopub.status.idle": "2024-08-17T11:46:44.893839Z",
     "shell.execute_reply": "2024-08-17T11:46:44.892612Z",
     "shell.execute_reply.started": "2024-08-17T11:46:43.284121Z"
    },
    "papermill": {
     "duration": null,
     "end_time": null,
     "exception": null,
     "start_time": null,
     "status": "pending"
    },
    "tags": []
   },
   "outputs": [],
   "source": [
    "import pandas as pd\n",
    "\n",
    "df_products = pd.read_csv('/kaggle/input/hackathonxx/housing_data.csv')\n",
    "\n",
    "print(df_products.head())"
   ]
  },
  {
   "cell_type": "code",
   "execution_count": null,
   "id": "0898913f",
   "metadata": {
    "execution": {
     "iopub.execute_input": "2024-08-17T11:47:07.624844Z",
     "iopub.status.busy": "2024-08-17T11:47:07.624425Z"
    },
    "papermill": {
     "duration": null,
     "end_time": null,
     "exception": null,
     "start_time": null,
     "status": "pending"
    },
    "tags": []
   },
   "outputs": [],
   "source": [
    "# Assuming df_transactions and df_demographics have already been loaded and processed\n",
    "\n",
    "# First, join the transactions data with the demographics data (if not already done)\n",
    "merged_data = pd.merge(df3, df_demographics, on='household_key', how='inner')\n",
    "\n",
    "# Now, join the product data with the merged transactions and demographics data\n",
    "final_data = pd.merge(merged_data, df_products, on='PRODUCT_ID', how='inner')\n",
    "\n",
    "# Display the first few rows of the final joined DataFrame\n",
    "print(final_data.head())"
   ]
  },
  {
   "cell_type": "markdown",
   "id": "6424384e",
   "metadata": {
    "papermill": {
     "duration": null,
     "end_time": null,
     "exception": null,
     "start_time": null,
     "status": "pending"
    },
    "tags": []
   },
   "source": []
  }
 ],
 "metadata": {
  "kaggle": {
   "accelerator": "none",
   "dataSources": [
    {
     "datasetId": 5555651,
     "sourceId": 9190347,
     "sourceType": "datasetVersion"
    }
   ],
   "dockerImageVersionId": 30746,
   "isGpuEnabled": false,
   "isInternetEnabled": false,
   "language": "python",
   "sourceType": "notebook"
  },
  "kernelspec": {
   "display_name": "Python 3",
   "language": "python",
   "name": "python3"
  },
  "language_info": {
   "codemirror_mode": {
    "name": "ipython",
    "version": 3
   },
   "file_extension": ".py",
   "mimetype": "text/x-python",
   "name": "python",
   "nbconvert_exporter": "python",
   "pygments_lexer": "ipython3",
   "version": "3.10.13"
  },
  "papermill": {
   "default_parameters": {},
   "duration": 54.814572,
   "end_time": "2025-02-21T00:08:14.407132",
   "environment_variables": {},
   "exception": true,
   "input_path": "__notebook__.ipynb",
   "output_path": "__notebook__.ipynb",
   "parameters": {},
   "start_time": "2025-02-21T00:07:19.592560",
   "version": "2.5.0"
  }
 },
 "nbformat": 4,
 "nbformat_minor": 5
}
